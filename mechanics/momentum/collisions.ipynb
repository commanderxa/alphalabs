{
 "cells": [
  {
   "cell_type": "markdown",
   "metadata": {},
   "source": [
    "# Collisions"
   ]
  },
  {
   "cell_type": "markdown",
   "metadata": {},
   "source": [
    "### **Introduction**\n",
    "\n",
    "A collision is an event in which two or more objects come into contact with each other with a significant force. These interactions often involve a transfer of energy and momentum. Collisions are a common phenomenon in many fields of physics and engineering, from understanding the behavior of particles in a gas to analyzing the dynamics of vehicles during car accidents. The outcome of a collision depends on factors like the type of collision, the masses of the objects involved, and their velocities.\n",
    "\n",
    "### **What is it?**\n",
    "\n",
    "In physics, a collision can be described as an event where two or more objects exert forces on each other for a brief period. The key characteristics of a collision are:\n",
    "\n",
    "- **Momentum Conservation:** In a closed system (no external forces), the total momentum of the system before the collision is equal to the total momentum after the collision.\n",
    "- **Energy Conservation:** Depending on the type of collision, the total mechanical energy (kinetic energy) may be conserved or converted into other forms of energy, such as heat or sound.\n",
    "\n",
    "Collisions can be classified into two main types:\n",
    "\n",
    "- **Elastic Collision:** In this type of collision, both momentum and kinetic energy are conserved. The objects rebound off each other without any loss in the total kinetic energy.\n",
    "- **Inelastic Collision:** In an inelastic collision, momentum is conserved, but kinetic energy is not. Some of the kinetic energy is converted into other forms of energy, such as heat or deformation of the objects.\n",
    "Perfectly Inelastic Collision: This is a special case of inelastic collision where the objects stick together after the collision, and the maximum amount of kinetic energy is lost.\n",
    "\n",
    "### **Example**\n",
    "\n",
    "Consider two billiard balls colliding on a pool table:\n",
    "- Ball A has a mass of 0.17 kg and is **moving at 2 m/s**.\n",
    "- Ball B has a mass of 0.17 kg and is **stationary**.\n",
    "\n",
    "In an elastic collision, the balls would rebound off each other. Since momentum is conserved, the velocity of Ball A will change, and Ball B will start moving after the collision. The kinetic energy before and after the collision would remain the same.\n",
    "\n",
    "In an inelastic collision, some of the kinetic energy will be lost in the form of sound or heat. The balls may still bounce off each other, but their velocities will not change as much as in an elastic collision, and energy will be dissipated.\n",
    "\n",
    "In a perfectly inelastic collision, the balls would stick together after the collision, moving as one object with a combined mass. Here, kinetic energy is not conserved (it is lost), but momentum is.\n",
    "\n",
    "The behavior of the system will vary depending on whether the collision is elastic or inelastic, illustrating how different types of collisions affect the dynamics of the objects involved.\n"
   ]
  },
  {
   "cell_type": "markdown",
   "metadata": {
    "id": "JxGZfiZKCnU0"
   },
   "source": [
    "# Simulation"
   ]
  },
  {
   "cell_type": "markdown",
   "metadata": {},
   "source": [
    "## Setup\n",
    "\n",
    "Installing packages (for Google Colab). If this notebook is opened in Google Colab then some packages must be installed to run the code!\\\n",
    "Then importing the scene and plot settings."
   ]
  },
  {
   "cell_type": "code",
   "execution_count": null,
   "metadata": {},
   "outputs": [],
   "source": [
    "#@title Run to install MuJoCo and `dm_control` for Google Colab\n",
    "\n",
    "IS_COLAB = 'google.colab' in str(get_ipython())\n",
    "if IS_COLAB:\n",
    "    # download the repository\n",
    "    !git clone https://github.com/commanderxa/alphalabs.git\n",
    "    from alphalabs.mechanics.setup import install_packages_colab\n",
    "    install_packages_colab()\n",
    "    import alphalabs.mechanics.plot\n",
    "    from alphalabs.mechanics.scene import Scene\n",
    "else:\n",
    "    import os, sys\n",
    "    module_path = os.path.abspath(os.path.join(\"..\"))\n",
    "    if module_path not in sys.path:\n",
    "        sys.path.append(module_path)\n",
    "    # import the scene\n",
    "    from scene import Scene\n",
    "    import plot"
   ]
  },
  {
   "cell_type": "markdown",
   "metadata": {},
   "source": [
    "## Import\n",
    "\n",
    "Import all required packages to preform simulations. Packages include simulation engine, plotting libraries and other ones necessary for computations."
   ]
  },
  {
   "cell_type": "code",
   "execution_count": null,
   "metadata": {
    "colab": {
     "base_uri": "https://localhost:8080/"
    },
    "id": "2hKsLB7ZCkPU",
    "outputId": "c1d8d7de-836c-4857-8695-d3eccf4e4fd6"
   },
   "outputs": [],
   "source": [
    "%env MUJOCO_GL=egl\n",
    "\n",
    "import os\n",
    "\n",
    "# simulation\n",
    "from dm_control import mjcf\n",
    "\n",
    "# for video recording\n",
    "import mediapy\n",
    "\n",
    "# computations\n",
    "import numpy as np\n",
    "\n",
    "# plot charts\n",
    "import seaborn as sns\n",
    "import matplotlib.pyplot as plt"
   ]
  },
  {
   "cell_type": "markdown",
   "metadata": {
    "id": "-V2745LfE9v_"
   },
   "source": [
    "## Initial Conditions\n",
    "\n",
    "In this block constants are defined. They impact the environment, rendering and objects directly.\n",
    "\n",
    "**Note**, don't set very high values for velocity as the simulation might crash. If you will experience such a situation, try reducing the velocity!"
   ]
  },
  {
   "cell_type": "code",
   "execution_count": null,
   "metadata": {
    "id": "_MyN2pGyFWfG"
   },
   "outputs": [],
   "source": [
    "# global\n",
    "viscosity = 0.00002 # Air Resistance (this is default value for air on Earth)\n",
    "\n",
    "# collision constants\n",
    "distance = 1 # distance between two objects (center points of object) [meters]\n",
    "# mass [kg]\n",
    "left_mass = 0.25 # mass of left box\n",
    "right_mass = 0.25 # mass of right box\n",
    "# speed [m/s]\n",
    "left_velocity = 1.2\n",
    "right_velocity = 0\n",
    "\n",
    "\"\"\"\n",
    "Collision Type of Simulation\n",
    "\n",
    "set to 'True' to simulate 'inelastic'\n",
    "set to 'False' to simulate 'elastic'\n",
    "\"\"\"\n",
    "is_inelastic = False\n",
    "\n",
    "# rendering\n",
    "width = 1920\n",
    "height = 1080\n",
    "dpi = 600\n",
    "duration = 5  # (seconds)\n",
    "framerate = 60  # (Hz)"
   ]
  },
  {
   "cell_type": "markdown",
   "metadata": {
    "id": "aviMbaq3DI90"
   },
   "source": [
    "## Model"
   ]
  },
  {
   "cell_type": "markdown",
   "metadata": {},
   "source": [
    "### Object\n",
    "\n",
    "This class defines the object of our interest, a `box`. Here we write what is this object (box), what can it do (move, fall) and also add a camera that follows the object."
   ]
  },
  {
   "cell_type": "code",
   "execution_count": null,
   "metadata": {},
   "outputs": [],
   "source": [
    "class Box(object):\n",
    "\n",
    "    def __init__(\n",
    "        self, side: str, rgba: list[float], mass: float, is_inelastic: bool\n",
    "    ) -> None:\n",
    "        self.model = mjcf.RootElement(model=f\"{side}_box\")\n",
    "\n",
    "        self.box = self.model.worldbody.add(\"body\", name=\"box\", pos=[0, 0, 0])\n",
    "\n",
    "        # self.box.add(\"inertial\", pos=[0, 0, 0], mass=mass)\n",
    "\n",
    "        solref = {}\n",
    "        if not is_inelastic:\n",
    "            solref[\"solref\"] = [0.02, 0.07]\n",
    "\n",
    "        self.box_geom = self.box.add(\n",
    "            \"geom\",\n",
    "            name=\"box_geom\",\n",
    "            type=\"box\",\n",
    "            pos=[0, 0, 0],\n",
    "            size=[0.1, 0.05, 0.04],\n",
    "            mass=mass,\n",
    "            rgba=rgba,\n",
    "            condim=1,\n",
    "            **solref,\n",
    "        )\n",
    "\n",
    "        self.move = self.box.add(\"joint\", name=\"move\", type=\"slide\", axis=[1, 0, 0])\n",
    "        self.fall = self.box.add(\"joint\", name=\"fall\", type=\"slide\", axis=[0, 0, 1])\n",
    "\n",
    "        if is_inelastic:\n",
    "            self.model.actuator.add(\n",
    "                \"adhesion\",\n",
    "                name=f\"{side}_adhesion\",\n",
    "                body=\"box\",\n",
    "                ctrlrange=[0.99, 1],\n",
    "                gain=2.5,\n",
    "            )"
   ]
  },
  {
   "cell_type": "markdown",
   "metadata": {},
   "source": [
    "### World Model\n",
    "\n",
    "Collecting everything into one general model."
   ]
  },
  {
   "cell_type": "code",
   "execution_count": null,
   "metadata": {},
   "outputs": [],
   "source": [
    "class Model(object):\n",
    "\n",
    "    def __init__(self, right_mass: float, left_mass: float) -> None:\n",
    "        self.model = mjcf.RootElement(model=\"model\")\n",
    "\n",
    "        # setting environment constants\n",
    "        self.model.option.viscosity = viscosity\n",
    "        self.model.option.integrator = \"RK4\"\n",
    "        self.model.option.flag.constraint = \"enable\"\n",
    "        self.model.option.flag.contact = \"enable\"\n",
    "        self.model.option.flag.gravity = \"enable\"\n",
    "        self.model.option.flag.energy = \"enable\"\n",
    "\n",
    "        # set render info\n",
    "        self.model.visual.__getattr__(\"global\").offheight = height\n",
    "        self.model.visual.__getattr__(\"global\").offwidth = width\n",
    "\n",
    "        # create the environment (ground)\n",
    "        self.arena = Scene(length=10)\n",
    "        self.arena_site = self.model.worldbody.add(\n",
    "            \"site\", name=\"arena_site\", pos=[0, 0, -0.1], rgba=[0, 0, 0, 0]\n",
    "        )\n",
    "        self.arena_site.attach(self.arena.model)\n",
    "\n",
    "        # add object1\n",
    "        self.box1 = Box(\n",
    "            side=\"left\", rgba=[0, 0, 1, 1], mass=left_mass, is_inelastic=is_inelastic\n",
    "        )\n",
    "        box_site1 = self.model.worldbody.add(\n",
    "            \"site\", name=\"left_site\", pos=[-distance / 2 - 0.05, 0, 0.02], rgba=[0, 0, 0, 0]\n",
    "        )\n",
    "        box_site1.attach(self.box1.model)\n",
    "\n",
    "        # add object2\n",
    "        self.box2 = Box(\n",
    "            side=\"right\", rgba=[1, 0, 0, 1], mass=right_mass, is_inelastic=is_inelastic\n",
    "        )\n",
    "        box_site2 = self.model.worldbody.add(\n",
    "            \"site\", name=\"right_site\", pos=[distance / 2 + 0.05, 0, 0.02], rgba=[0, 0, 0, 0]\n",
    "        )\n",
    "        box_site2.attach(self.box2.model)\n",
    "\n",
    "        self.camera = self.model.worldbody.add(\n",
    "            \"camera\",\n",
    "            name=\"front\",\n",
    "            pos=[0, -2, 1],\n",
    "            euler=[60, 0, 0],\n",
    "        )"
   ]
  },
  {
   "cell_type": "markdown",
   "metadata": {
    "id": "MNG2QfSTU2MV"
   },
   "source": [
    "## Simulation"
   ]
  },
  {
   "cell_type": "markdown",
   "metadata": {
    "id": "ON_FrY7iDwKY"
   },
   "source": [
    "Initializing the `physics` of the simulation."
   ]
  },
  {
   "cell_type": "code",
   "execution_count": null,
   "metadata": {
    "id": "FeYZ_qpCDDW6"
   },
   "outputs": [],
   "source": [
    "model = Model(right_mass, left_mass).model\n",
    "physics = mjcf.Physics.from_mjcf_model(model)"
   ]
  },
  {
   "cell_type": "markdown",
   "metadata": {},
   "source": [
    "First of all, the environment must be verified by rendering a picture."
   ]
  },
  {
   "cell_type": "code",
   "execution_count": null,
   "metadata": {},
   "outputs": [],
   "source": [
    "mediapy.show_image(physics.render(height, width, camera_id=0))"
   ]
  },
  {
   "cell_type": "markdown",
   "metadata": {},
   "source": [
    "Define IDs for two objects in order to get timestamp of collision"
   ]
  },
  {
   "cell_type": "code",
   "execution_count": null,
   "metadata": {},
   "outputs": [],
   "source": [
    "box1_id = physics.model.name2id(\"left_box/box_geom\", \"geom\")\n",
    "box2_id = physics.model.name2id(\"right_box/box_geom\", \"geom\")\n",
    "box1_id, box2_id"
   ]
  },
  {
   "cell_type": "markdown",
   "metadata": {
    "id": "BDwHFDO6EUL3"
   },
   "source": [
    "Next, it's time to make a simulation. This might take some time."
   ]
  },
  {
   "cell_type": "code",
   "execution_count": null,
   "metadata": {},
   "outputs": [],
   "source": [
    "physics.reset()\n",
    "\n",
    "frames = []\n",
    "timevals = []\n",
    "velocity = []\n",
    "position = []\n",
    "collisions = []\n",
    "\n",
    "accelerate = None\n",
    "while physics.data.time < duration:\n",
    "    if physics.data.time >= 1.0 and not accelerate:\n",
    "        physics.data.qvel = [left_velocity, 0, -right_velocity, 0]\n",
    "        accelerate =True\n",
    "\n",
    "    timevals.append(physics.data.time)\n",
    "    velocity.append([physics.data.qvel[0], physics.data.qvel[2]])\n",
    "    position.append(\n",
    "        [\n",
    "            physics.named.data.geom_xpos[\"left_box/box_geom\"][0],\n",
    "            physics.named.data.geom_xpos[\"right_box/box_geom\"][0],\n",
    "        ]\n",
    "    )\n",
    "\n",
    "    for i, c in enumerate(physics.data.contact):\n",
    "        if box1_id in c.geom and box2_id in c.geom:\n",
    "            collisions.append((c, physics.data.time))\n",
    "\n",
    "    if len(frames) < physics.data.time * framerate:\n",
    "        pixels = physics.render(height, width, camera_id=0)\n",
    "        frames.append(pixels)\n",
    "    \n",
    "    physics.step()"
   ]
  },
  {
   "cell_type": "code",
   "execution_count": null,
   "metadata": {},
   "outputs": [],
   "source": [
    "mediapy.show_video(frames, fps=framerate)"
   ]
  },
  {
   "cell_type": "markdown",
   "metadata": {},
   "source": [
    "Save the rendered video"
   ]
  },
  {
   "cell_type": "code",
   "execution_count": null,
   "metadata": {},
   "outputs": [],
   "source": [
    "collision_type = \"inelastic\" if is_inelastic else \"elastic\"\n",
    "mass_type = \"same-mass\"\n",
    "if left_mass != right_mass:\n",
    "    mass_type = \"blue\" if left_mass > right_mass else \"red\"\n",
    "    mass_type = f\"{mass_type}-bigger\"\n",
    "\n",
    "video_name = f\"collision-{collision_type}-{mass_type}\"\n",
    "if not IS_COLAB:\n",
    "    video_name = f\"../../output/\" + video_name\n",
    "mediapy.write_video(video_name + \".mp4\", images=frames, fps=framerate)"
   ]
  },
  {
   "cell_type": "markdown",
   "metadata": {},
   "source": [
    "## Simulation Data Visualization"
   ]
  },
  {
   "cell_type": "markdown",
   "metadata": {},
   "source": [
    "Convert data into numpy array to have more features"
   ]
  },
  {
   "cell_type": "code",
   "execution_count": null,
   "metadata": {
    "colab": {
     "base_uri": "https://localhost:8080/"
    },
    "id": "-pvpGszCsLSN",
    "outputId": "aafc5639-80a1-440f-de5f-ffadd59ead00"
   },
   "outputs": [],
   "source": [
    "# convert velocity into numpy array to have more features\n",
    "velocity = np.array(velocity)\n",
    "# we split two signals into two arrays\n",
    "velocity_r = velocity[:, 0]\n",
    "velocity_l = velocity[:, 1]\n",
    "# this line checks whether the shape of data equals, meaning that we don't lose anything\n",
    "velocity_r.shape[0] == velocity_l.shape[0] == velocity.shape[0]"
   ]
  },
  {
   "cell_type": "code",
   "execution_count": null,
   "metadata": {
    "colab": {
     "base_uri": "https://localhost:8080/"
    },
    "id": "ndNnCu9GsLYa",
    "outputId": "f7c5be55-6b6a-4cea-d037-2e55b4da4fde"
   },
   "outputs": [],
   "source": [
    "# convert position into numpy array to have more features\n",
    "position = np.array(position)\n",
    "# we split two signals into two arrays\n",
    "position_r = position[:, 0]\n",
    "position_l = position[:, 1]\n",
    "# this line checks whether the shape of data equals, meaning that we don't lose anything\n",
    "position_r.shape[0] == position_l.shape[0] == position.shape[0]"
   ]
  },
  {
   "cell_type": "markdown",
   "metadata": {},
   "source": [
    "## Simulation Data Visualization\n",
    "\n",
    "Collected velocities and position now can be plotted to investigate what happened to the object."
   ]
  },
  {
   "cell_type": "code",
   "execution_count": null,
   "metadata": {},
   "outputs": [],
   "source": [
    "cm = 1 / 2.54\n",
    "figsize = (8.5 * cm, 3.75 * cm)\n",
    "fig, ax = plt.subplots(ncols=2, figsize=figsize, dpi=dpi)\n",
    "fig.subplots_adjust(wspace=1 * cm)\n",
    "\n",
    "y_labels = [\"Amplitude [m/s]\", \"Range, [m]\"]\n",
    "x_labels = [\"Time, [s]\", \"Time, [s]\"]\n",
    "titles = [\"Velocity\", \"Position\"]\n",
    "y_data = [[velocity_r, velocity_l], [position_r, position_l]]\n",
    "\n",
    "for i in range(2):\n",
    "    sns.lineplot(x=timevals, y=y_data[i][0], ax=ax[i], linewidth=1, label=f\"Blue {physics.model.body('left_box/box').mass[0]}kg\", color=\"blue\")\n",
    "    sns.lineplot(x=timevals, y=y_data[i][1], ax=ax[i], linewidth=1, label=f\"Red {physics.model.body('right_box/box').mass[0]}kg\", color=\"red\")\n",
    "    ax[i].set_title(titles[i], fontsize=8)\n",
    "    ax[i].set_ylabel(y_labels[i], fontsize=7, labelpad=2)\n",
    "    ax[i].set_xlabel(x_labels[i], fontsize=7, labelpad=2)\n",
    "    ax[i].tick_params(labelsize=6)\n",
    "    ax[i].tick_params(which=\"both\", direction=\"in\", top=True, right=True, length=2)\n",
    "    ax[i].legend(fontsize=5, handlelength=1).get_frame().set_linewidth(0.5)\n",
    "\n",
    "ax[0].set_ylim(bottom=-0.1, top=1.3)\n",
    "\n",
    "chart_name = f\"collision-{collision_type}-{mass_type}\"\n",
    "if not IS_COLAB:\n",
    "    chart_name = f\"../../output/\" + chart_name\n",
    "fig.savefig(chart_name + \".png\", bbox_inches=\"tight\")"
   ]
  }
 ],
 "metadata": {
  "accelerator": "GPU",
  "colab": {
   "gpuType": "T4",
   "provenance": []
  },
  "kernelspec": {
   "display_name": ".venv",
   "language": "python",
   "name": "python3"
  },
  "language_info": {
   "codemirror_mode": {
    "name": "ipython",
    "version": 3
   },
   "file_extension": ".py",
   "mimetype": "text/x-python",
   "name": "python",
   "nbconvert_exporter": "python",
   "pygments_lexer": "ipython3",
   "version": "3.10.12"
  }
 },
 "nbformat": 4,
 "nbformat_minor": 4
}
