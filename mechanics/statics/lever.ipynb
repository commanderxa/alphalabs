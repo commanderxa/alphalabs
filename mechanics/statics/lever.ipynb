{
  "cells": [
    {
      "cell_type": "markdown",
      "metadata": {
        "id": "bEx1CMul4i84"
      },
      "source": [
        "# Lever"
      ]
    },
    {
      "cell_type": "markdown",
      "metadata": {
        "id": "CZpZAC8b4i85"
      },
      "source": [
        "### **Introduction**\n",
        "\n",
        "A lever is a simple machine consisting of a rigid bar or rod that pivots around a fixed point, known as the fulcrum. It is used to amplify force, making it easier to lift or move heavy objects. Levers are one of the most fundamental tools in mechanics and have been used for centuries in various applications, from tools and machines to construction and mechanical systems. By changing the position of the fulcrum, the lever allows for a mechanical advantage, which can be used to increase force or distance, depending on the situation.\n",
        "\n",
        "### **What is it?**\n",
        "\n",
        "In its most basic form, a lever operates on the principle of moment of force or torque, which is the rotational equivalent of force. When a force is applied at one point on the lever, it creates a rotational force (torque) around the fulcrum. The mechanical advantage provided by a lever depends on the distance from the fulcrum to the point where the force is applied (known as the effort arm) and the distance from the fulcrum to the point where the output force acts (the load arm).\n",
        "\n",
        "The three main classes of levers are defined by the relative positions of the effort, load, and fulcrum:\n",
        "\n",
        "1. **First-Class Lever:** The fulcrum is located between the effort and the load. Examples include seesaws or crowbars.\n",
        "2. **Second-Class Lever:** The load is located between the fulcrum and the effort. Examples include wheelbarrows or nutcrackers.\n",
        "3. **Third-Class Lever:** The effort is located between the fulcrum and the load. Examples include tweezers or a fishing rod.\n",
        "\n",
        "\n",
        "### **Example**\n",
        "\n",
        "Consider a seesaw (a first-class lever) used by two children. One child is sitting at one end of the seesaw, and the other child is sitting at the opposite end. The fulcrum is positioned at the center.\n",
        "\n",
        "Let’s say the child on one side weighs 30 kg, and the child on the other side weighs 45 kg.\n",
        "\n",
        "The effort arm is the distance from the fulcrum to the position of the child, and the load arm is the distance from the fulcrum to the other child's position.\n",
        "If the child with the greater weight sits further from the fulcrum, the lever can balance when the child with lesser weight sits closer. This is an example of using the lever to achieve balance, where the effort exerted by one child is balanced by the load exerted by the other child.\n",
        "\n",
        "The mechanical advantage of the seesaw would depend on how the children adjust their positions. If the weight is greater on one side, the child would need to move further away from the fulcrum to balance the system. This highlights how the lever can be used to balance forces or move objects with less effort.\n",
        "\n",
        "In real-world examples, levers are used in various tools, such as hammers (where the handle acts as a lever to increase force applied to the nail), tongs (to grasp objects), and even in the human body, where bones and muscles act like levers."
      ]
    },
    {
      "cell_type": "markdown",
      "metadata": {
        "id": "OViU13Xx4i86"
      },
      "source": [
        "# Simulation"
      ]
    },
    {
      "cell_type": "markdown",
      "metadata": {
        "id": "iEfFJQjO4i86"
      },
      "source": [
        "## Setup\n",
        "\n",
        "Installing packages (for Google Colab). If this notebook is opened in Google Colab then some packages must be installed to run the code!\\\n",
        "Then importing the scene and plot settings."
      ]
    },
    {
      "cell_type": "code",
      "execution_count": null,
      "metadata": {
        "cellView": "form",
        "id": "IwhVHn1X4i87"
      },
      "outputs": [],
      "source": [
        "#@title Run to install MuJoCo and `dm_control` for Google Colab\n",
        "\n",
        "IS_COLAB = 'google.colab' in str(get_ipython())\n",
        "if IS_COLAB:\n",
        "    # download the repository\n",
        "    !git clone https://github.com/commanderxa/alphalabs.git\n",
        "    from alphalabs.mechanics.setup import install_packages_colab\n",
        "    install_packages_colab()\n",
        "    import alphalabs.mechanics.plot\n",
        "    from alphalabs.mechanics.scene import Scene\n",
        "else:\n",
        "    import os, sys\n",
        "    module_path = os.path.abspath(os.path.join(\"..\"))\n",
        "    if module_path not in sys.path:\n",
        "        sys.path.append(module_path)\n",
        "    # import the scene\n",
        "    from scene import Scene\n",
        "    import plot"
      ]
    },
    {
      "cell_type": "markdown",
      "metadata": {
        "id": "TNEPbl5w4i87"
      },
      "source": [
        "## Import\n",
        "\n",
        "Import all required packages to preform simulations. Packages include simulation engine, plotting libraries and other ones necessary for computations."
      ]
    },
    {
      "cell_type": "code",
      "execution_count": null,
      "metadata": {
        "id": "F-m7M8Of4i87"
      },
      "outputs": [],
      "source": [
        "%env MUJOCO_GL=egl\n",
        "\n",
        "import os\n",
        "\n",
        "# simulation\n",
        "from dm_control import mjcf, mujoco\n",
        "from dm_control.mujoco.wrapper.mjbindings import enums\n",
        "\n",
        "# for video recording\n",
        "import mediapy\n",
        "\n",
        "# computations\n",
        "import numpy as np"
      ]
    },
    {
      "cell_type": "markdown",
      "metadata": {
        "id": "EoD-BS-i4i88"
      },
      "source": [
        "## Initial Conditions\n",
        "\n",
        "In this block constants are defined. They impact the environment, rendering and objects directly."
      ]
    },
    {
      "cell_type": "code",
      "execution_count": null,
      "metadata": {
        "id": "Xd3UIQIk4i88"
      },
      "outputs": [],
      "source": [
        "# global\n",
        "viscosity = 0.00000  # Air Resistance\n",
        "\n",
        "# simulation constants\n",
        "mass = 10  # [kg]\n",
        "length = 5  # [m]\n",
        "force = -50  # [N]\n",
        "middle = 0.3 # [fraction in [0, 1]]\n",
        "\n",
        "# rendering\n",
        "width = 1920\n",
        "height = 1080\n",
        "dpi = 600\n",
        "duration = 10  # (seconds)\n",
        "framerate = 60  # (Hz)"
      ]
    },
    {
      "cell_type": "markdown",
      "metadata": {
        "id": "YwEVAdwn4i89"
      },
      "source": [
        "## Model"
      ]
    },
    {
      "cell_type": "markdown",
      "metadata": {
        "id": "43pTyQ9b4i89"
      },
      "source": [
        "### Objects of Interest\n",
        "\n",
        "This class defines the object of our interest, a `box`. Here we write what is this object (box), what can it do (move, fall, rotate) and also add a camera that follows the object."
      ]
    },
    {
      "cell_type": "code",
      "execution_count": null,
      "metadata": {
        "id": "EjSOUEyd4i89"
      },
      "outputs": [],
      "source": [
        "class Box(object):\n",
        "\n",
        "    def __init__(self, name: str, mass: float, size: float, rgba: list[float]) -> None:\n",
        "        self.model = mjcf.RootElement(model=name)\n",
        "\n",
        "        self.box = self.model.worldbody.add(\"body\", name=\"box\", pos=[0, 0, 0])\n",
        "        self.box_geom = self.box.add(\n",
        "            \"geom\",\n",
        "            name=\"box_geom\",\n",
        "            type=\"box\",\n",
        "            size=[size, size, size],\n",
        "            mass=mass,\n",
        "            rgba=rgba,\n",
        "            condim=6,\n",
        "            friction=[1.0],\n",
        "        )\n",
        "\n",
        "        self.model.actuator.add(\n",
        "            \"adhesion\",\n",
        "            name=f\"{name}_adhesion\",\n",
        "            body=\"box\",\n",
        "            ctrlrange=[0, 1],\n",
        "            gain=10,\n",
        "        )\n",
        "\n",
        "        self.fall = self.box.add(\"joint\", name=\"fall\", type=\"slide\", axis=[0, 0, 1])\n",
        "        self.move = self.box.add(\"joint\", name=\"move\", type=\"slide\", axis=[1, 0, 0])\n",
        "        self.rotate = self.box.add(\"joint\", name=\"rotate\", type=\"hinge\", axis=[0, 1, 0])"
      ]
    },
    {
      "cell_type": "code",
      "execution_count": null,
      "metadata": {
        "id": "ci9UK71l4i89"
      },
      "outputs": [],
      "source": [
        "class Lever(object):\n",
        "\n",
        "    def __init__(self, length: float, middle: float, mass: float) -> None:\n",
        "        self.model = mjcf.RootElement(model=\"lever\")\n",
        "\n",
        "        self.lever_body = self.model.worldbody.add(\n",
        "            \"body\", name=\"lever_body\", pos=[0, 0, 0]\n",
        "        )\n",
        "\n",
        "        self.leg_length = 0.4\n",
        "        self.base_leg_1 = self.lever_body.add(\n",
        "            \"geom\",\n",
        "            name=\"base_leg_1\",\n",
        "            type=\"box\",\n",
        "            size=[self.leg_length, self.leg_length, 0.02],\n",
        "            rgba=[1, 1, 0, 1],\n",
        "            euler=[0, 75, 0],\n",
        "            pos=[\n",
        "                np.sin(np.deg2rad(15)) * self.leg_length,\n",
        "                0,\n",
        "                np.sin(np.deg2rad(75)) * self.leg_length,\n",
        "            ],\n",
        "            conaffinity=2,\n",
        "            contype=2,\n",
        "        )\n",
        "        self.base_leg_2 = self.lever_body.add(\n",
        "            \"geom\",\n",
        "            name=\"base_leg_2\",\n",
        "            type=\"box\",\n",
        "            size=[self.leg_length, self.leg_length, 0.02],\n",
        "            rgba=[1, 1, 0, 1],\n",
        "            euler=[0, -75, 0],\n",
        "            pos=[\n",
        "                np.sin(np.deg2rad(-15)) * self.leg_length,\n",
        "                0,\n",
        "                np.sin(np.deg2rad(75)) * self.leg_length,\n",
        "            ],\n",
        "            conaffinity=2,\n",
        "            contype=2,\n",
        "        )\n",
        "\n",
        "        self.wrapper = self.lever_body.add(\n",
        "            \"body\",\n",
        "            name=\"lever_wrapper\",\n",
        "            pos=[0, 0, np.sin(np.deg2rad(75)) * self.leg_length * 2],\n",
        "        )\n",
        "\n",
        "        self.half_length = length / 2\n",
        "\n",
        "        self.line = self.wrapper.add(\n",
        "            \"geom\",\n",
        "            name=\"line\",\n",
        "            type=\"box\",\n",
        "            size=[self.half_length, 0.5, 0.05],\n",
        "            rgba=[1, 0, 0, 1],\n",
        "            pos=[self.half_length - middle * length, 0, 0],\n",
        "            condim=6,\n",
        "            friction=[1.0],\n",
        "        )\n",
        "\n",
        "        box_size = 0.7 / 2\n",
        "        self.box = Box(name=\"box\", mass=mass, size=box_size, rgba=[0, 0, 1, 1])\n",
        "        self.box_site = self.lever_body.add(\n",
        "            \"site\",\n",
        "            rgba=[0, 0, 0, 0],\n",
        "            pos=[\n",
        "                self.half_length - middle * length + self.half_length - box_size,\n",
        "                0,\n",
        "                np.sin(np.deg2rad(75)) * self.leg_length * 2 + box_size,\n",
        "            ],\n",
        "        )\n",
        "        self.box_site.attach(self.box.model)\n",
        "\n",
        "        self.hidden_box = Box(\n",
        "            name=\"hidden_box\", mass=1, size=box_size, rgba=[0, 0, 0, 0.3]\n",
        "        )\n",
        "        self.hidden_site = self.lever_body.add(\n",
        "            \"site\",\n",
        "            rgba=[0, 0, 0, 0],\n",
        "            pos=[\n",
        "                self.half_length - middle * length + -self.half_length + box_size,\n",
        "                0,\n",
        "                np.sin(np.deg2rad(75)) * self.leg_length * 2 + box_size,\n",
        "            ],\n",
        "        )\n",
        "        self.hidden_site.attach(self.hidden_box.model)\n",
        "\n",
        "        self.rotate = self.wrapper.add(\n",
        "            \"joint\", name=\"rotate\", type=\"hinge\", axis=[0, 1, 0]\n",
        "        )"
      ]
    },
    {
      "cell_type": "markdown",
      "metadata": {
        "id": "HeO5nr264i8-"
      },
      "source": [
        "### World Model\n",
        "\n",
        "Collecting everything into one general model."
      ]
    },
    {
      "cell_type": "code",
      "execution_count": null,
      "metadata": {
        "id": "Yr2BQ5OY4i8-"
      },
      "outputs": [],
      "source": [
        "class Model(object):\n",
        "\n",
        "    def __init__(self, length: float) -> None:\n",
        "        self.model = mjcf.RootElement(model=\"lever_physics\")\n",
        "\n",
        "        # set render info\n",
        "        self.model.visual.__getattr__(\"global\").offheight = height\n",
        "        self.model.visual.__getattr__(\"global\").offwidth = width\n",
        "\n",
        "        # set the simulation constants\n",
        "        self.model.option.viscosity = viscosity\n",
        "        self.model.option.integrator = \"RK4\"\n",
        "        self.model.option.timestep = 0.0001\n",
        "\n",
        "        self.length = length\n",
        "\n",
        "        # create the environment (ground)\n",
        "        self.scene = Scene(length=length * 3)\n",
        "        self.scene_site = self.model.worldbody.add(\"site\", pos=[0, 0, 0])\n",
        "        self.scene_site.attach(self.scene.model)\n",
        "\n",
        "        self.lever = Lever(length, middle, mass)\n",
        "        self.lever_site = self.model.worldbody.add(\"site\", pos=[0, 0, 0])\n",
        "        self.lever_site.attach(self.lever.model)\n",
        "\n",
        "        self.camera = self.model.worldbody.add(\n",
        "            \"camera\",\n",
        "            name=\"front\",\n",
        "            pos=[length / 2 - middle * length, -length, length / 2],\n",
        "            euler=[75, 0, 0],\n",
        "        )"
      ]
    },
    {
      "cell_type": "markdown",
      "metadata": {
        "id": "H4RT_PmT4i8-"
      },
      "source": [
        "## Simulation"
      ]
    },
    {
      "cell_type": "markdown",
      "metadata": {
        "id": "A0BhAygF4i8-"
      },
      "source": [
        "Initializing the `physics` of the simulation."
      ]
    },
    {
      "cell_type": "code",
      "execution_count": null,
      "metadata": {
        "id": "EUv-MlJY4i8-"
      },
      "outputs": [],
      "source": [
        "model = Model(length=length).model\n",
        "physics = mjcf.Physics.from_mjcf_model(model)"
      ]
    },
    {
      "cell_type": "markdown",
      "metadata": {
        "id": "xjUFGouM4i8-"
      },
      "source": [
        "Setting some engine flags. In this case, we want to see all joint that are present."
      ]
    },
    {
      "cell_type": "code",
      "execution_count": null,
      "metadata": {
        "id": "veSibkwa4i8_"
      },
      "outputs": [],
      "source": [
        "scene_option = mujoco.wrapper.core.MjvOption()\n",
        "scene_option.flags[enums.mjtVisFlag.mjVIS_JOINT] = True"
      ]
    },
    {
      "cell_type": "markdown",
      "metadata": {
        "id": "i-FtQgIY4i8_"
      },
      "source": [
        "First of all, the environment must be verified by rendering a picture."
      ]
    },
    {
      "cell_type": "code",
      "execution_count": null,
      "metadata": {
        "id": "F1ES_Lay4i8_"
      },
      "outputs": [],
      "source": [
        "mediapy.show_image(\n",
        "    physics.render(height, width, camera_id=0, scene_option=scene_option)\n",
        ")"
      ]
    },
    {
      "cell_type": "markdown",
      "metadata": {
        "id": "vCaEIKkL4i8_"
      },
      "source": [
        "### Simulation Loop"
      ]
    },
    {
      "cell_type": "code",
      "execution_count": null,
      "metadata": {
        "id": "GaEJfrgV4i8_"
      },
      "outputs": [],
      "source": [
        "frames = []\n",
        "timevals = []\n",
        "velocity = []\n",
        "position = []\n",
        "\n",
        "physics.bind(model.find_all(\"actuator\")).ctrl = [1, 1]\n",
        "\n",
        "while physics.data.time < duration:\n",
        "    physics.named.data.xfrc_applied[\"lever/hidden_box/box\"][2] = (\n",
        "        force + abs(physics.model.opt.gravity[-1])\n",
        "    )\n",
        "\n",
        "    timevals.append(physics.data.time)\n",
        "    # velocity.append(physics.named.data.qvel[\"box/move\"][0].copy())\n",
        "    # position.append(physics.named.data.geom_xpos[\"box/box_geom\"][0].copy())\n",
        "\n",
        "    if len(frames) < physics.data.time * framerate:\n",
        "        pixels = physics.render(width=width, height=height, camera_id=0)\n",
        "        frames.append(pixels)\n",
        "\n",
        "    physics.step()"
      ]
    },
    {
      "cell_type": "code",
      "execution_count": null,
      "metadata": {
        "id": "dTEt9qk44i8_"
      },
      "outputs": [],
      "source": [
        "mediapy.show_video(frames, fps=framerate)"
      ]
    },
    {
      "cell_type": "markdown",
      "metadata": {
        "id": "iRvEDow84i8_"
      },
      "source": [
        "Save the rendered video"
      ]
    },
    {
      "cell_type": "code",
      "execution_count": null,
      "metadata": {
        "id": "mU3FURoL4i9A"
      },
      "outputs": [],
      "source": [
        "video_name = f\"lever\" if IS_COLAB else f\"../../output/lever\"\n",
        "mediapy.write_video(video_name + \".mp4\", images=frames, fps=framerate)"
      ]
    }
  ],
  "metadata": {
    "kernelspec": {
      "display_name": "Python 3",
      "name": "python3"
    },
    "language_info": {
      "codemirror_mode": {
        "name": "ipython",
        "version": 3
      },
      "file_extension": ".py",
      "mimetype": "text/x-python",
      "name": "python",
      "nbconvert_exporter": "python",
      "pygments_lexer": "ipython3",
      "version": "3.10.12"
    },
    "colab": {
      "provenance": [],
      "gpuType": "T4"
    },
    "accelerator": "GPU"
  },
  "nbformat": 4,
  "nbformat_minor": 0
}