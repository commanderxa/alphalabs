{
 "cells": [
  {
   "cell_type": "markdown",
   "metadata": {},
   "source": [
    "# Inclined Plane"
   ]
  },
  {
   "cell_type": "markdown",
   "metadata": {},
   "source": [
    "### **Introduction**\n",
    "\n",
    "An inclined plane is a flat surface that is tilted at an angle to the horizontal. It is one of the simplest machines in physics, often used to demonstrate the concept of force, motion, and mechanical advantage. Inclined planes allow us to lift heavy objects with less force, thanks to the angle of the surface. The angle of inclination determines the force required to move an object, and understanding its effects is fundamental to studying dynamics and friction in physics.\n",
    "\n",
    "### **What is it?**\n",
    "\n",
    "An inclined plane is essentially a ramp or sloped surface, and when an object is placed on it, the force of gravity acting on the object has two components:\n",
    "\n",
    "- **Parallel Component:** The component of the gravitational force that acts along the surface of the inclined plane, pulling the object downward along the slope.\n",
    "- **Perpendicular Component:** The component of the gravitational force acting perpendicular to the surface of the inclined plane, pressing the object against the surface.\n",
    "\n",
    "The relationship between the angle of inclination θ\\thetaθ, the force applied, and the frictional force is key to understanding how the object moves.\n",
    "\n",
    "### **Example**\n",
    "\n",
    "If friction is negligible, the block will experience a force of 24.5 N24.5 \\, \\text{N}24.5N pulling it down the incline. If friction is present, the frictional force will oppose this motion, reducing the acceleration of the block down the plane. By varying the angle θ\\thetaθ, we can change the parallel component of the force and control how easily the object moves.\n",
    "\n",
    "In this case, the inclined plane makes it easier to move the object upward or downward, depending on how the forces are managed. This is an example of how inclined planes work in real-world applications like ramps, roads, or even in mechanical systems."
   ]
  },
  {
   "cell_type": "markdown",
   "metadata": {},
   "source": [
    "# Simulation"
   ]
  },
  {
   "cell_type": "markdown",
   "metadata": {},
   "source": [
    "## Setup\n",
    "\n",
    "Installing packages (for Google Colab). If this notebook is opened in Google Colab then some packages must be installed to run the code!\\\n",
    "Then importing the scene and plot settings."
   ]
  },
  {
   "cell_type": "code",
   "execution_count": null,
   "metadata": {},
   "outputs": [],
   "source": [
    "#@title Run to install MuJoCo and `dm_control` for Google Colab\n",
    "\n",
    "IS_COLAB = 'google.colab' in str(get_ipython())\n",
    "if IS_COLAB:\n",
    "    # download the repository\n",
    "    !git clone https://github.com/commanderxa/alphalabs.git\n",
    "    from alphalabs.mechanics.setup import install_packages_colab\n",
    "    install_packages_colab()\n",
    "    import alphalabs.mechanics.plot\n",
    "    from alphalabs.mechanics.scene import Scene\n",
    "else:\n",
    "    import os, sys\n",
    "    module_path = os.path.abspath(os.path.join(\"..\"))\n",
    "    if module_path not in sys.path:\n",
    "        sys.path.append(module_path)\n",
    "    # import the scene\n",
    "    from scene import Scene\n",
    "    import plot"
   ]
  },
  {
   "cell_type": "markdown",
   "metadata": {},
   "source": [
    "## Import\n",
    "\n",
    "Import all required packages to preform simulations. Packages include simulation engine, plotting libraries and other ones necessary for computations."
   ]
  },
  {
   "cell_type": "code",
   "execution_count": null,
   "metadata": {},
   "outputs": [],
   "source": [
    "%env MUJOCO_GL=egl\n",
    "\n",
    "import os\n",
    "\n",
    "# simulation\n",
    "from dm_control import mjcf\n",
    "\n",
    "# for video recording\n",
    "import mediapy\n",
    "\n",
    "# computations\n",
    "import numpy as np\n",
    "\n",
    "# plot charts\n",
    "import seaborn as sns\n",
    "import matplotlib.pyplot as plt"
   ]
  },
  {
   "cell_type": "markdown",
   "metadata": {},
   "source": [
    "## Initial Conditions\n",
    "\n",
    "In this block constants are defined. They impact the environment, rendering and objects directly."
   ]
  },
  {
   "cell_type": "code",
   "execution_count": null,
   "metadata": {},
   "outputs": [],
   "source": [
    "# global\n",
    "viscosity = 0.00002 # Air Resistance (this is default value for air on Earth)\n",
    "\n",
    "# collision constants\n",
    "length = 21  # [meters]\n",
    "mass = 1  # [kg]\n",
    "sphere_radius = 1\n",
    "\n",
    "# rendering\n",
    "width = 1920\n",
    "height = 1080\n",
    "dpi = 600\n",
    "duration = 10  # (seconds)\n",
    "framerate = 60  # (Hz)"
   ]
  },
  {
   "cell_type": "markdown",
   "metadata": {},
   "source": [
    "## Model"
   ]
  },
  {
   "cell_type": "markdown",
   "metadata": {},
   "source": [
    "### Object\n",
    "\n",
    "This class defines the object of our interest, an `inclined plane`. Here we write what is this object (inclined plane), what can it do (move, fall) and also add a camera that follows the object."
   ]
  },
  {
   "cell_type": "code",
   "execution_count": null,
   "metadata": {},
   "outputs": [],
   "source": [
    "class Sphere(object):\n",
    "\n",
    "    def __init__(self, size: float, mass: float) -> None:\n",
    "        self.model = mjcf.RootElement(model=\"sphere\")\n",
    "\n",
    "        self.size = size / 2\n",
    "\n",
    "        self.sphere = self.model.worldbody.add(\"body\", name=\"sphere\", pos=[0, 0, 0])\n",
    "        self.sphere_geom = self.sphere.add(\n",
    "            \"geom\",\n",
    "            name=\"sphere_geom\",\n",
    "            type=\"sphere\",\n",
    "            size=[self.size],\n",
    "            rgba=[0.1, 0.3, 0.7, 1],\n",
    "            mass=mass,\n",
    "        )\n",
    "\n",
    "        self.rotate = self.sphere.add(\n",
    "            \"joint\", name=\"rotate\", type=\"hinge\", axis=[0, 1, 0]\n",
    "        )\n",
    "        self.move = self.sphere.add(\"joint\", name=\"move\", type=\"slide\", axis=[1, 0, 0])\n",
    "        self.fall = self.sphere.add(\"joint\", name=\"fall\", type=\"slide\", axis=[0, 0, 1])\n",
    "\n",
    "        # tracking camera\n",
    "        self.camera = self.sphere.add(\n",
    "            \"camera\",\n",
    "            name=\"front\",\n",
    "            pos=[0, -4, 0],\n",
    "            euler=[90, 0, 0],\n",
    "            mode=\"track\",\n",
    "        )\n",
    "\n",
    "        self.sensor_site = self.sphere.add(\"site\", pos=[0, 0, 0])\n",
    "        self.model.sensor.add(\"velocimeter\", name=f\"velocity\", site=self.sensor_site)"
   ]
  },
  {
   "cell_type": "code",
   "execution_count": null,
   "metadata": {},
   "outputs": [],
   "source": [
    "class InlinedPlane(object):\n",
    "\n",
    "    def __init__(self, length: float) -> None:\n",
    "        self.model = mjcf.RootElement(model=\"inclined_plane\")\n",
    "\n",
    "        self.degree = 15\n",
    "        self.length = length / 2\n",
    "        self.height = self.length * np.sin(np.deg2rad(self.degree))\n",
    "        self.width = self.length * np.cos(np.deg2rad(self.degree))\n",
    "\n",
    "        self.plane = self.model.worldbody.add(\"body\", name=\"plane\", pos=[0, 0, 0])\n",
    "        self.plane_geom = self.plane.add(\n",
    "            \"geom\",\n",
    "            name=\"plane_geom\",\n",
    "            pos=[0, 0, self.height],\n",
    "            type=\"box\",\n",
    "            size=[self.length, 0.5, 0.1],\n",
    "            rgba=[1, 0, 0, 1],\n",
    "            euler=[0, self.degree, 0],\n",
    "            condim=1,\n",
    "        )\n",
    "        self.plane_2_geom = self.plane.add(\n",
    "            \"geom\",\n",
    "            name=\"plane_2_geom\",\n",
    "            pos=[self.length * np.sin(np.deg2rad(90 - self.degree)) + 1, 0, 0],\n",
    "            type=\"box\",\n",
    "            size=[1, 0.5, 0.1],\n",
    "            rgba=[1, 1, 0, 1],\n",
    "            condim=1,\n",
    "        )\n",
    "\n",
    "        for i in range(0, 4):\n",
    "            if i == 1 or i == 2: continue\n",
    "            detector = self.plane = self.model.worldbody.add(\n",
    "                \"body\",\n",
    "                name=f\"detector_{i}\",\n",
    "                pos=[\n",
    "                    -self.length * np.cos(np.deg2rad(self.degree))\n",
    "                    + length * np.cos(np.deg2rad(self.degree)) * i / 3,\n",
    "                    0,\n",
    "                    self.height * 2 * (3 - i) / 3,\n",
    "                ],\n",
    "                euler=[0, self.degree, 0],\n",
    "            )\n",
    "            detector.add(\n",
    "                \"geom\",\n",
    "                name=f\"detector_bottom_{i}\",\n",
    "                pos=[0, 0, 0],\n",
    "                type=\"box\",\n",
    "                size=[0.2, 0.55, 0.15],\n",
    "                rgba=[1, 1, 0, 1],\n",
    "                condim=1,\n",
    "                conaffinity=2,\n",
    "                contype=2,\n",
    "            )\n",
    "            detector.add(\n",
    "                \"geom\",\n",
    "                name=f\"detector_top_{i}\",\n",
    "                pos=[0, 0, 0.5 + 0.1],\n",
    "                type=\"box\",\n",
    "                size=[0.5, 0.5, 0.01],\n",
    "                rgba=[0, 0, 0, 0.3],\n",
    "                euler=[0, 90, 0],\n",
    "                condim=1,\n",
    "                conaffinity=2,\n",
    "                contype=2,\n",
    "            )\n",
    "            sensor_site = detector.add(\"site\", pos=[0, 0, 0.5 + 0.1])\n",
    "            self.model.sensor.add(\"velocimeter\", name=f\"sense_{i}\", site=sensor_site)"
   ]
  },
  {
   "cell_type": "markdown",
   "metadata": {},
   "source": [
    "### World Model\n",
    "\n",
    "Collecting everything into one general model"
   ]
  },
  {
   "cell_type": "code",
   "execution_count": null,
   "metadata": {},
   "outputs": [],
   "source": [
    "class Model(object):\n",
    "\n",
    "    def __init__(self) -> None:\n",
    "        self.model = mjcf.RootElement(model=\"model\")\n",
    "\n",
    "        # set render info\n",
    "        self.model.visual.__getattr__(\"global\").offheight = height\n",
    "        self.model.visual.__getattr__(\"global\").offwidth = width\n",
    "        self.model.visual.map.znear = 0.001\n",
    "        \n",
    "        # set the simulation constants\n",
    "        self.model.option.viscosity = viscosity\n",
    "        self.model.option.integrator = \"RK4\"\n",
    "\n",
    "        # create the scene (ground)\n",
    "        self.scene = Scene(length=100)\n",
    "        self.scene_site = self.model.worldbody.add(\"site\", pos=[0, 0, 0])\n",
    "        self.scene_site.attach(self.scene.model)\n",
    "\n",
    "        # add the object\n",
    "        self.inc_plane = InlinedPlane(length)\n",
    "        inc_plane_site = self.model.worldbody.add(\n",
    "            \"site\", pos=[self.inc_plane.width, 0, 0]\n",
    "        )\n",
    "        inc_plane_site.attach(self.inc_plane.model)\n",
    "\n",
    "        # add the object\n",
    "        self.sphere = Sphere(size=sphere_radius, mass=mass)\n",
    "        sphere_site = self.model.worldbody.add(\n",
    "            \"site\",\n",
    "            pos=[\n",
    "                0.15,\n",
    "                0,\n",
    "                length * np.sin(np.deg2rad(15)) + self.sphere.size + 0.1,\n",
    "            ],\n",
    "        )\n",
    "        sphere_site.attach(self.sphere.model)\n",
    "\n",
    "        # camera for rendering\n",
    "        self.camera = self.model.worldbody.add(\n",
    "            \"camera\",\n",
    "            name=\"front\",\n",
    "            pos=[self.inc_plane.width, -2 * length / 2, length / 2],\n",
    "            euler=[75, 0, 0],\n",
    "            mode=\"fixed\",\n",
    "            fovy=45,\n",
    "        )"
   ]
  },
  {
   "cell_type": "markdown",
   "metadata": {},
   "source": [
    "## Simulation"
   ]
  },
  {
   "cell_type": "markdown",
   "metadata": {},
   "source": [
    "Initializing the `physics` of the simulation"
   ]
  },
  {
   "cell_type": "code",
   "execution_count": null,
   "metadata": {},
   "outputs": [],
   "source": [
    "model = Model().model\n",
    "physics = mjcf.Physics.from_mjcf_model(model)"
   ]
  },
  {
   "cell_type": "code",
   "execution_count": null,
   "metadata": {},
   "outputs": [],
   "source": [
    "mediapy.show_image(physics.render(height, width, camera_id=0))"
   ]
  },
  {
   "cell_type": "code",
   "execution_count": null,
   "metadata": {},
   "outputs": [],
   "source": [
    "sphere_id = physics.model.name2id(\"sphere/sphere_geom\", \"geom\")\n",
    "plane_id = physics.model.name2id(\"inclined_plane/plane_geom\", \"geom\")\n",
    "plane_2_id = physics.model.name2id(\"inclined_plane/plane_2_geom\", \"geom\")\n",
    "sphere_id, plane_id, plane_2_id"
   ]
  },
  {
   "cell_type": "markdown",
   "metadata": {},
   "source": [
    "### Simulation Loop"
   ]
  },
  {
   "cell_type": "code",
   "execution_count": null,
   "metadata": {},
   "outputs": [],
   "source": [
    "frames = []\n",
    "timevals = []\n",
    "velocity = []\n",
    "position = []\n",
    "sensor = []\n",
    "\n",
    "drop = False\n",
    "stop_measure = False\n",
    "while physics.data.time < duration:\n",
    "    if not drop:\n",
    "        for i, c in enumerate(physics.data.contact):\n",
    "            if sphere_id in c.geom and plane_id in c.geom:\n",
    "                physics.named.data.qvel[\"sphere/fall\"] = 0\n",
    "                drop = True\n",
    "\n",
    "    for i, c in enumerate(physics.data.contact):\n",
    "        if sphere_id in c.geom and plane_2_id in c.geom:\n",
    "            stop_measure = True\n",
    "\n",
    "    if not stop_measure:\n",
    "        timevals.append(physics.data.time)\n",
    "        velocity.append(np.linalg.norm(physics.named.data.qvel[:].copy()))\n",
    "        position.append(physics.named.data.geom_xpos[\"sphere/sphere_geom\"][:].copy())\n",
    "\n",
    "    if len(frames) < physics.data.time * framerate:\n",
    "        pixels = physics.render(width=width, height=height, camera_id=0)\n",
    "        frames.append(pixels)\n",
    "\n",
    "    physics.step()"
   ]
  },
  {
   "cell_type": "code",
   "execution_count": null,
   "metadata": {},
   "outputs": [],
   "source": [
    "# Simulate and display video.\n",
    "mediapy.show_video(frames, fps=framerate)"
   ]
  },
  {
   "cell_type": "code",
   "execution_count": null,
   "metadata": {},
   "outputs": [],
   "source": [
    "video_name = f\"inclined_plane\" if IS_COLAB else f\"../../output/inclined_plane\"\n",
    "mediapy.write_video(video_name + \".mp4\", images=frames, fps=framerate)"
   ]
  },
  {
   "cell_type": "markdown",
   "metadata": {},
   "source": [
    "## Simulation Data Visualization"
   ]
  },
  {
   "cell_type": "markdown",
   "metadata": {},
   "source": [
    "Convert data into numpy array to have more features"
   ]
  },
  {
   "cell_type": "code",
   "execution_count": null,
   "metadata": {},
   "outputs": [],
   "source": [
    "velocity = np.array(velocity)\n",
    "position = np.array(position)"
   ]
  },
  {
   "cell_type": "code",
   "execution_count": null,
   "metadata": {},
   "outputs": [],
   "source": [
    "cm = 1 / 2.54\n",
    "figsize = (8.5 * cm, 3.75 * cm)\n",
    "fig, ax = plt.subplots(ncols=2, figsize=figsize, dpi=dpi)\n",
    "fig.subplots_adjust(wspace=1 * cm)\n",
    "\n",
    "y_labels = [\"Amplitude [m/s]\", \"Range, [m]\"]\n",
    "x_labels = [\"Time, [s]\", \"Time, [s]\"]\n",
    "titles = [\"Velocity\", \"Position\"]\n",
    "y_data = [velocity, position[:, 2]]\n",
    "x_data = [timevals, position[:, 0]]\n",
    "\n",
    "for i in range(2):\n",
    "    sns.lineplot(x=x_data[i], y=y_data[i], ax=ax[i], linewidth=1, color=\"red\")\n",
    "    ax[i].set_title(titles[i], fontsize=8)\n",
    "    ax[i].set_ylabel(y_labels[i], fontsize=7, labelpad=2)\n",
    "    ax[i].set_xlabel(x_labels[i], fontsize=7, labelpad=2)\n",
    "    ax[i].tick_params(labelsize=6)\n",
    "    ax[i].tick_params(which=\"both\", direction=\"in\", top=True, right=True, length=2)\n",
    "\n",
    "chart_name = f\"inclined_plane\" if IS_COLAB else f\"../../output/inclined_plane\"\n",
    "fig.savefig(chart_name + \".png\", bbox_inches=\"tight\")"
   ]
  }
 ],
 "metadata": {
  "kernelspec": {
   "display_name": ".venv",
   "language": "python",
   "name": "python3"
  },
  "language_info": {
   "codemirror_mode": {
    "name": "ipython",
    "version": 3
   },
   "file_extension": ".py",
   "mimetype": "text/x-python",
   "name": "python",
   "nbconvert_exporter": "python",
   "pygments_lexer": "ipython3",
   "version": "3.10.12"
  }
 },
 "nbformat": 4,
 "nbformat_minor": 2
}
