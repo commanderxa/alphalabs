{
 "cells": [
  {
   "cell_type": "markdown",
   "metadata": {},
   "source": [
    "# Newton's 3rd Law"
   ]
  },
  {
   "cell_type": "markdown",
   "metadata": {},
   "source": [
    "### **Introduction**\n",
    "\n",
    "Newton's Third Law of Motion is one of the most well-known and intuitive principles of physics. It states that: \"For every action, there is an equal and opposite reaction.\"\n",
    "This law emphasizes that forces always come in pairs—when one object exerts a force on another, the second object exerts a force of equal magnitude in the opposite direction on the first object. The two forces are equal in strength but act in opposite directions. This law highlights the interaction between objects and is fundamental to understanding how forces work in the universe.\n",
    "\n",
    "\n",
    "### **What is it?**\n",
    "\n",
    "Newton’s Third Law explains that forces are always mutual. Whenever an object exerts a force on another object, the second object exerts a force back on the first object. These forces are equal in size but opposite in direction. It's important to note that these action-reaction forces do not cancel each other out because they act on different objects. For example, if you push against a wall, the wall pushes back on you with an equal and opposite force.\n",
    "\n",
    "This law is essential for understanding how objects interact with one another. It is key to many real-world phenomena, including walking, flying, and swimming.\n",
    "\n",
    "\n",
    "### **Example**\n",
    "\n",
    "1. **Walking:** When you walk, your foot pushes backward against the ground (this is the action force). According to Newton’s Third Law, the ground pushes forward on your foot with an equal and opposite force (the reaction force). It is this forward push from the ground that allows you to move forward.\n",
    "\n",
    "2. **Jumping off a boat:** If you're standing in a small boat on water and you push off the side to jump, you’ll notice that the boat moves backward as you move forward. When you push on the boat (action), the boat pushes back on you with an equal force (reaction). The boat’s backward movement is the result of this reaction force.\n",
    "\n",
    "3. **Rocket Propulsion:** In a rocket launch, the rocket expels gas downwards with a powerful force (action). In response, the rocket experiences an equal and opposite force (reaction), which pushes it upwards, allowing it to take off. This principle is crucial to the functioning of rockets and space exploration.\n",
    "\n",
    "4. **Recoil of a gun:** When a gun is fired, the bullet is pushed forward by the explosion of gunpowder (action), and at the same time, the gun is pushed backward with an equal force (reaction). This backward movement of the gun is what we call \"recoil.\"\n",
    "\n",
    "Newton’s Third Law explains a wide variety of everyday occurrences and helps us understand the fundamental interactions between objects. It shows that no force exists in isolation—there is always an equal and opposite force acting on another object.\n"
   ]
  },
  {
   "cell_type": "markdown",
   "metadata": {},
   "source": [
    "# Simulation"
   ]
  },
  {
   "cell_type": "markdown",
   "metadata": {},
   "source": [
    "## Setup\n",
    "\n",
    "Installing packages (for Google Colab). If this notebook is opened in Google Colab then some packages must be installed to run the code!\\\n",
    "Then importing the scene and plot settings."
   ]
  },
  {
   "cell_type": "code",
   "execution_count": null,
   "metadata": {},
   "outputs": [],
   "source": [
    "#@title Run to install MuJoCo and `dm_control` for Google Colab\n",
    "\n",
    "IS_COLAB = 'google.colab' in str(get_ipython())\n",
    "if IS_COLAB:\n",
    "    # download the repository\n",
    "    !git clone https://github.com/commanderxa/alphalabs.git\n",
    "    from alphalabs.mechanics.setup import install_packages_colab\n",
    "    install_packages_colab()\n",
    "    import alphalabs.mechanics.plot\n",
    "    from alphalabs.mechanics.scene import Scene\n",
    "else:\n",
    "    import os, sys\n",
    "    module_path = os.path.abspath(os.path.join(\"..\"))\n",
    "    if module_path not in sys.path:\n",
    "        sys.path.append(module_path)\n",
    "    # import the scene\n",
    "    from scene import Scene\n",
    "    import plot"
   ]
  },
  {
   "cell_type": "markdown",
   "metadata": {},
   "source": [
    "## Import\n",
    "\n",
    "Import all required packages to preform simulations. Packages include simulation engine, plotting libraries and other ones necessary for computations."
   ]
  },
  {
   "cell_type": "code",
   "execution_count": null,
   "metadata": {},
   "outputs": [],
   "source": [
    "%env MUJOCO_GL=egl\n",
    "\n",
    "import os\n",
    "\n",
    "# simulation\n",
    "from dm_control import mujoco, mjcf\n",
    "from dm_control.mujoco.wrapper.mjbindings import enums\n",
    "\n",
    "# for video recording\n",
    "import mediapy\n",
    "\n",
    "# computations\n",
    "import numpy as np\n",
    "\n",
    "# plot charts\n",
    "import seaborn as sns\n",
    "import matplotlib.pyplot as plt"
   ]
  },
  {
   "cell_type": "markdown",
   "metadata": {},
   "source": [
    "## Initial Conditions\n",
    "\n",
    "In this block constants are defined. They impact the environment, rendering and objects directly."
   ]
  },
  {
   "cell_type": "code",
   "execution_count": null,
   "metadata": {},
   "outputs": [],
   "source": [
    "# global\n",
    "viscosity = 0.00000  # Air Resistance\n",
    "density = 0.0\n",
    "\n",
    "# simulation constants\n",
    "force = 5000  # [N]\n",
    "\n",
    "# rendering\n",
    "width = 1920\n",
    "height = 1080\n",
    "dpi = 600\n",
    "duration = 10  # (seconds)\n",
    "framerate = 60  # (Hz)"
   ]
  },
  {
   "cell_type": "markdown",
   "metadata": {},
   "source": [
    "## Model"
   ]
  },
  {
   "cell_type": "markdown",
   "metadata": {},
   "source": [
    "### Objects of Interest\n",
    "\n",
    "Here we create all the objects that will interact in the world. To model `action - reaction` one might create a cannon that will shoot a cannonball."
   ]
  },
  {
   "cell_type": "code",
   "execution_count": null,
   "metadata": {},
   "outputs": [],
   "source": [
    "class CannonBall(object):\n",
    "\n",
    "    def __init__(self, size: float, mass: float) -> None:\n",
    "        self.model = mjcf.RootElement(model=\"cannonball\")\n",
    "\n",
    "        self.sphere = self.model.worldbody.add(\"body\", name=\"sphere\", pos=[0, 0, 0])\n",
    "        self.sphere_geom = self.sphere.add(\n",
    "            \"geom\",\n",
    "            name=\"sphere_geom\",\n",
    "            type=\"sphere\",\n",
    "            size=[size],\n",
    "            rgba=[0.1, 0.1, 0.15, 1],\n",
    "            mass=mass,\n",
    "            condim=1,\n",
    "        )\n",
    "\n",
    "        # self.sphere.add(\"joint\", name=\"rotate\", type=\"hinge\", axis=[0, 1, 0])\n",
    "        self.sphere.add(\"joint\", name=\"move\", type=\"slide\", axis=[1, 0, 0])\n",
    "        self.sphere.add(\"joint\", name=\"fall\", type=\"slide\", axis=[0, 0, 1])\n",
    "\n",
    "        self.camera = self.sphere.add(\n",
    "            \"camera\",\n",
    "            name=\"side\",\n",
    "            pos=[0, -2, 1],\n",
    "            euler=[75, 0, 0],\n",
    "            mode=\"track\",\n",
    "        )"
   ]
  },
  {
   "cell_type": "code",
   "execution_count": null,
   "metadata": {},
   "outputs": [],
   "source": [
    "class Cannon(object):\n",
    "\n",
    "    def __init__(self) -> None:\n",
    "        self.model = mjcf.RootElement(model=\"cannon\")\n",
    "\n",
    "        self.cannon = self.model.worldbody.add(\"body\", name=\"cannon\", pos=[0, 0, 0])\n",
    "\n",
    "        # cannon joints\n",
    "        self.move = self.cannon.add(\"joint\", name=\"move\", type=\"slide\", axis=[1, 0, 0])\n",
    "        self.fall = self.cannon.add(\"joint\", name=\"fall\", type=\"slide\", axis=[0, 0, 1])\n",
    "\n",
    "        # constants\n",
    "        self.barrel_length = 1\n",
    "        self.barrel_r = 0.2\n",
    "        self.wheel_r = 0.25\n",
    "\n",
    "        # barrel\n",
    "        self.barrel_pos = [0, 0, self.barrel_r + self.wheel_r + 0.025]\n",
    "        self.barrel_site = self.cannon.add(\"site\", pos=self.barrel_pos)\n",
    "        self.barrel_model = self.add_barrel(barrel_parts_num=60)\n",
    "        self.barrel_site.attach(self.barrel_model)\n",
    "\n",
    "        # base of cannon\n",
    "        self.base_site = self.cannon.add(\n",
    "            \"site\", pos=[-self.barrel_length / 10, 0, self.wheel_r]\n",
    "        )\n",
    "        self.base_model = self.add_base()\n",
    "        self.base_site.attach(self.base_model)\n",
    "\n",
    "        self.camera = self.cannon.add(\n",
    "            \"camera\",\n",
    "            name=\"side\",\n",
    "            pos=[0, -2, 1],\n",
    "            euler=[75, 0, 0],\n",
    "            mode=\"track\",\n",
    "        )\n",
    "\n",
    "    def add_barrel(self, barrel_parts_num: int) -> mjcf.Element:\n",
    "        self.barrel_model = mjcf.RootElement(model=\"cannon_barrel\")\n",
    "        self.barrel = self.barrel_model.worldbody.add(\n",
    "            \"body\", name=\"barrel\", pos=[0, 0, 0], euler=[0, 90, 0]\n",
    "        )\n",
    "\n",
    "        rgba = [0.4, 0.4, 0.4, 1]\n",
    "        self.barrel_base_ring = self.barrel.add(\n",
    "            \"geom\",\n",
    "            name=\"barrel_base_ring\",\n",
    "            type=\"cylinder\",\n",
    "            size=[self.barrel_r + 0.02, 0.025],\n",
    "            pos=[0, 0, -self.barrel_length / 2 + 0.025],\n",
    "            rgba=rgba,\n",
    "        )\n",
    "        self.barrel_base = self.barrel.add(\n",
    "            \"geom\",\n",
    "            name=\"barrel_base\",\n",
    "            type=\"cylinder\",\n",
    "            size=[self.barrel_r / 1.5, 0.015],\n",
    "            pos=[0, 0, -self.barrel_length / 2],\n",
    "            rgba=rgba,\n",
    "        )\n",
    "        self.barrel_neck = self.barrel.add(\n",
    "            \"geom\",\n",
    "            name=\"barrel_neck\",\n",
    "            type=\"cylinder\",\n",
    "            size=[self.barrel_r / 5, 0.025],\n",
    "            pos=[0, 0, -self.barrel_length / 2 - (0.025 + 0.015)],\n",
    "            rgba=rgba,\n",
    "        )\n",
    "        self.barrel_knob = self.barrel.add(\n",
    "            \"geom\",\n",
    "            name=\"barrel_knob\",\n",
    "            type=\"sphere\",\n",
    "            size=[self.barrel_r / 3],\n",
    "            pos=[0, 0, -self.barrel_length / 2 - (0.025 + 0.015) - self.barrel_r / 3],\n",
    "            rgba=rgba,\n",
    "        )\n",
    "\n",
    "        for i in range(1, barrel_parts_num + 1):\n",
    "            angle = 2 * i * np.pi / barrel_parts_num\n",
    "            barrel_pos = self.barrel_r * np.array([np.cos(angle), np.sin(angle), 0])\n",
    "            self.barrel.add(\n",
    "                \"geom\",\n",
    "                name=f\"barrel_{i}\",\n",
    "                type=\"box\",\n",
    "                size=[0.012, 0.01, self.barrel_length / 2],\n",
    "                pos=barrel_pos,\n",
    "                rgba=rgba,\n",
    "                mass=1,\n",
    "                euler=[0, 0, np.rad2deg(angle) + 90],\n",
    "            )\n",
    "\n",
    "        return self.barrel_model\n",
    "\n",
    "    def add_base(self) -> mjcf.Element:\n",
    "        self.base_model = mjcf.RootElement(model=\"cannon_base\")\n",
    "        rgba = [0.79, 0.55, 0.15, 1]\n",
    "\n",
    "        self.cannon_base = self.base_model.worldbody.add(\n",
    "            \"geom\",\n",
    "            name=\"base\",\n",
    "            type=\"box\",\n",
    "            size=[0.15, 0.25, 0.025],\n",
    "            rgba=rgba,\n",
    "            mass=100,\n",
    "        )\n",
    "        for i in [-1, 1]:\n",
    "            wheel = self.base_model.worldbody.add(\n",
    "                \"body\", name=f\"wheel_{'r' if i > 0 else 'l'}\", pos=[0, 0.25 * i, 0]\n",
    "            )\n",
    "            wheel.add(\n",
    "                \"geom\",\n",
    "                name=f\"wheel_{'r' if i > 0 else 'l'}\",\n",
    "                type=\"cylinder\",\n",
    "                size=[self.wheel_r, 0.025],\n",
    "                rgba=rgba,\n",
    "                mass=5,\n",
    "                euler=[90, 0, 0],\n",
    "                pos=[0, 0, 0],\n",
    "            )\n",
    "            rotate = wheel.add(\n",
    "                \"joint\",\n",
    "                name=f\"rotate_{'r' if i > 0 else 'l'}\",\n",
    "                type=\"hinge\",\n",
    "                axis=[0, 1, 0],\n",
    "            )\n",
    "            self.base_model.actuator.add(\"motor\", joint=rotate)\n",
    "\n",
    "        return self.base_model"
   ]
  },
  {
   "cell_type": "markdown",
   "metadata": {},
   "source": [
    "### World Model\n",
    "\n",
    "Collecting everything into one general model"
   ]
  },
  {
   "cell_type": "code",
   "execution_count": null,
   "metadata": {},
   "outputs": [],
   "source": [
    "class Model(object):\n",
    "\n",
    "    def __init__(self) -> None:\n",
    "        self.model = mjcf.RootElement(model=\"model\")\n",
    "\n",
    "        # set render info\n",
    "        self.model.visual.__getattr__(\"global\").offheight = height\n",
    "        self.model.visual.__getattr__(\"global\").offwidth = width\n",
    "\n",
    "        # set the simulation constants\n",
    "        self.model.option.viscosity = viscosity\n",
    "        self.model.option.density = density\n",
    "        self.model.option.integrator = \"RK4\"\n",
    "        self.model.option.timestep = 0.0001\n",
    "\n",
    "        # create the scene (ground)\n",
    "        self.scene = Scene(length=0)\n",
    "        self.scene_site = self.model.worldbody.add(\"site\", pos=[0, 0, 0])\n",
    "        self.scene_site.attach(self.scene.model)\n",
    "\n",
    "        # create cannon\n",
    "        self.cannon = Cannon()\n",
    "        self.cannon_site = self.model.worldbody.add(\n",
    "            \"site\", name=\"cannon_site\", pos=[0, 0, 0]\n",
    "        )\n",
    "        self.cannon_site.attach(self.cannon.model)\n",
    "\n",
    "        # create cannonball\n",
    "        self.cannonball = CannonBall(size=self.cannon.barrel_r * 0.9, mass=10)\n",
    "        self.cannon_site = self.model.worldbody.add(\n",
    "            \"site\",\n",
    "            name=\"cannonball_site\",\n",
    "            pos=[\n",
    "                -self.cannon.barrel_length / 2 + self.cannon.barrel_r * 1.5,\n",
    "                0,\n",
    "                self.cannon.barrel_pos[2],\n",
    "            ],\n",
    "        )\n",
    "        self.cannon_site.attach(self.cannonball.model)"
   ]
  },
  {
   "cell_type": "markdown",
   "metadata": {},
   "source": [
    "## Simulation"
   ]
  },
  {
   "cell_type": "markdown",
   "metadata": {},
   "source": [
    "Initializing the `physics` of the simulation"
   ]
  },
  {
   "cell_type": "code",
   "execution_count": null,
   "metadata": {},
   "outputs": [],
   "source": [
    "model = Model().model\n",
    "physics = mjcf.Physics.from_mjcf_model(model)"
   ]
  },
  {
   "cell_type": "markdown",
   "metadata": {},
   "source": [
    "First of all, the environment must be verified by rendering a picture"
   ]
  },
  {
   "cell_type": "code",
   "execution_count": null,
   "metadata": {},
   "outputs": [],
   "source": [
    "physics.step()\n",
    "\n",
    "scene_option = mujoco.wrapper.core.MjvOption()\n",
    "scene_option.flags[enums.mjtVisFlag.mjVIS_PERTOBJ] = True\n",
    "scene_option.flags[enums.mjtVisFlag.mjVIS_PERTFORCE] = True\n",
    "\n",
    "mediapy.show_image(physics.render(width=width, height=height, camera_id=0))"
   ]
  },
  {
   "cell_type": "markdown",
   "metadata": {},
   "source": [
    "### Simulation Loop"
   ]
  },
  {
   "cell_type": "code",
   "execution_count": null,
   "metadata": {},
   "outputs": [],
   "source": [
    "frames = []\n",
    "timevals = []\n",
    "cannon_velocity = []\n",
    "cannon_position = []\n",
    "ball_velocity = []\n",
    "ball_position = []\n",
    "\n",
    "started = None\n",
    "stopped = None\n",
    "while physics.data.time < duration:\n",
    "    if started is not None and stopped is None:\n",
    "        if physics.time() - started > 0.1:\n",
    "            physics.named.data.xfrc_applied[\"cannonball/sphere\"][0] = 0\n",
    "            physics.named.data.xfrc_applied[\"cannon/cannon\"][0] = 0\n",
    "\n",
    "    if physics.time() > 1 and started is None:\n",
    "        # apply force to demonstrate the Newton's 3rd law\n",
    "        physics.named.data.xfrc_applied[\"cannonball/sphere\"][0] = force\n",
    "        physics.named.data.xfrc_applied[\"cannon/cannon\"][0] = -force\n",
    "        started = physics.time()\n",
    "\n",
    "    timevals.append(physics.data.time)\n",
    "    cannon_velocity.append(physics.named.data.qvel[\"cannon/move\"][0].copy())\n",
    "    cannon_position.append(physics.named.data.xpos[\"cannon/cannon\"][0].copy())\n",
    "    ball_velocity.append(physics.named.data.qvel[\"cannonball/move\"][0].copy())\n",
    "    ball_position.append(physics.named.data.xpos[\"cannonball/\"][0].copy())\n",
    "\n",
    "    if len(frames) < physics.data.time * framerate:\n",
    "        pixels = physics.render(\n",
    "            height=height, width=width, scene_option=scene_option, camera_id=0\n",
    "        )\n",
    "        frames.append(pixels)\n",
    "    \n",
    "    physics.step()"
   ]
  },
  {
   "cell_type": "code",
   "execution_count": null,
   "metadata": {},
   "outputs": [],
   "source": [
    "mediapy.show_video(frames, fps=framerate)"
   ]
  },
  {
   "cell_type": "code",
   "execution_count": null,
   "metadata": {},
   "outputs": [],
   "source": [
    "video_name = f\"newton_law_3\" if IS_COLAB else f\"../../output/newton_law_3\"\n",
    "mediapy.write_video(video_name + \".mp4\", images=frames, fps=framerate)"
   ]
  },
  {
   "cell_type": "code",
   "execution_count": null,
   "metadata": {},
   "outputs": [],
   "source": [
    "cannon_velocity = np.array(cannon_velocity)\n",
    "cannon_position = np.array(cannon_position)\n",
    "ball_velocity = np.array(ball_velocity)\n",
    "ball_position = np.array(ball_position)"
   ]
  },
  {
   "cell_type": "code",
   "execution_count": null,
   "metadata": {},
   "outputs": [],
   "source": [
    "cm = 1 / 2.54\n",
    "figsize = (8.5 * cm, 3.75 * cm)\n",
    "fig, ax = plt.subplots(ncols=2, figsize=figsize, dpi=dpi)\n",
    "fig.subplots_adjust(wspace=1 * cm)\n",
    "\n",
    "y_labels = [\"Amplitude [m/s]\", \"Range, [m]\"]\n",
    "x_labels = [\"Time, [s]\", \"Time, [s]\"]\n",
    "titles = [\"Velocity\", \"Position\"]\n",
    "data = [[cannon_velocity, ball_velocity], [cannon_position, ball_position]]\n",
    "\n",
    "for i in range(2):\n",
    "    sns.lineplot(x=timevals, y=data[i][0], ax=ax[i], linewidth=1, label=\"Cannon\", color=\"blue\")\n",
    "    sns.lineplot(x=timevals, y=data[i][1], ax=ax[i], linewidth=1, label=\"Cannonball\", color=\"red\")\n",
    "    ax[i].set_title(titles[i], fontsize=8)\n",
    "    ax[i].set_ylabel(y_labels[i], fontsize=7, labelpad=2)\n",
    "    ax[i].set_xlabel(x_labels[i], fontsize=7, labelpad=2)\n",
    "    ax[i].tick_params(labelsize=6)\n",
    "    ax[i].tick_params(which=\"both\", direction=\"in\", top=True, right=True, length=2)\n",
    "    ax[i].legend(fontsize=5, handlelength=1).get_frame().set_linewidth(0.5)\n",
    "\n",
    "ax[0].set_ylim(top=(ball_velocity[-1] + 2), bottom=(cannon_velocity[-1] - 2))\n",
    "ax[1].set_ylim(top=(ball_position[-1] + 1))\n",
    "chart_name = f\"newton_law_3.png\" if IS_COLAB else f\"../../output/newton_law_3.png\"\n",
    "fig.savefig(chart_name, bbox_inches=\"tight\")"
   ]
  }
 ],
 "metadata": {
  "kernelspec": {
   "display_name": ".venv",
   "language": "python",
   "name": "python3"
  },
  "language_info": {
   "codemirror_mode": {
    "name": "ipython",
    "version": 3
   },
   "file_extension": ".py",
   "mimetype": "text/x-python",
   "name": "python",
   "nbconvert_exporter": "python",
   "pygments_lexer": "ipython3",
   "version": "3.10.12"
  }
 },
 "nbformat": 4,
 "nbformat_minor": 2
}
