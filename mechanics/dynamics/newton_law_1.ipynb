{
 "cells": [
  {
   "cell_type": "markdown",
   "metadata": {},
   "source": [
    "# Newton 1st Law"
   ]
  },
  {
   "cell_type": "markdown",
   "metadata": {},
   "source": [
    "### **Introduction**\n",
    "\n",
    "Newton's First Law of Motion, often referred to as the Law of Inertia, is one of the fundamental principles in classical mechanics. It states that:\n",
    "_\"An object at rest will stay at rest, and an object in motion will continue moving with the same speed and in the same direction, unless acted upon by an unbalanced external force.\"_\n",
    "\n",
    "In simpler terms, this law explains that things tend to keep doing what they’re already doing, whether that’s staying still or moving in a straight line, unless something interferes with them.\n",
    "\n",
    "\n",
    "### **What is it?**\n",
    "\n",
    "Newton’s First Law essentially describes the natural state of motion of an object. If no forces are acting on an object, it will maintain its state of motion—either staying still or moving at a constant speed in a straight line. This tendency of objects to resist changes in their motion is called inertia. The law highlights the importance of forces in changing an object's motion. Without any external force (like a push, pull, or gravity), an object won't speed up, slow down, or change direction.\n",
    "\n",
    "\n",
    "### **Example**\n",
    "\n",
    "A common example of Newton’s First Law is when you're riding in a car that suddenly brakes. When the car slows down, your body tends to keep moving forward. This happens because your body wants to stay in motion (thanks to inertia), while the car has stopped. In this case, the seatbelt is the external force that acts on your body to bring it to a stop along with the car.\n",
    "\n",
    "Another everyday example is a book resting on a table. The book will remain at rest until a force (such as a push) is applied to move it. Without that push, the book won’t spontaneously start moving on its own—indicating that objects have a natural tendency to resist changes in their state of motion. Newton’s First Law helps us understand the basic behavior of objects in motion or at rest, and is crucial in explaining how forces and motion interact in the physical world.\n"
   ]
  },
  {
   "cell_type": "markdown",
   "metadata": {},
   "source": [
    "# Simulation"
   ]
  },
  {
   "cell_type": "markdown",
   "metadata": {},
   "source": [
    "## Setup\n",
    "\n",
    "Installing packages (for Google Colab). If this notebook is opened in Google Colab then some packages must be installed to run the code!\\\n",
    "Then importing the scene and plot settings."
   ]
  },
  {
   "cell_type": "code",
   "execution_count": null,
   "metadata": {},
   "outputs": [],
   "source": [
    "#@title Run to install MuJoCo and `dm_control` for Google Colab\n",
    "\n",
    "IS_COLAB = 'google.colab' in str(get_ipython())\n",
    "if IS_COLAB:\n",
    "    # download the repository\n",
    "    !git clone https://github.com/commanderxa/alphalabs.git\n",
    "    from alphalabs.mechanics.setup import install_packages_colab\n",
    "    install_packages_colab()\n",
    "    import alphalabs.mechanics.plot\n",
    "    from alphalabs.mechanics.scene import Scene\n",
    "else:\n",
    "    import os, sys\n",
    "    module_path = os.path.abspath(os.path.join(\"..\"))\n",
    "    if module_path not in sys.path:\n",
    "        sys.path.append(module_path)\n",
    "    # import the scene\n",
    "    from scene import Scene\n",
    "    import plot"
   ]
  },
  {
   "cell_type": "markdown",
   "metadata": {},
   "source": [
    "## Import\n",
    "\n",
    "Import all required packages to preform simulations. Packages include simulation engine, plotting libraries and other ones necessary for computations."
   ]
  },
  {
   "cell_type": "code",
   "execution_count": null,
   "metadata": {},
   "outputs": [],
   "source": [
    "%env MUJOCO_GL=egl\n",
    "\n",
    "import os\n",
    "\n",
    "# simulation\n",
    "from dm_control import mjcf\n",
    "\n",
    "# for video recording\n",
    "import mediapy\n",
    "\n",
    "# computations\n",
    "import numpy as np\n",
    "\n",
    "# plot charts\n",
    "import seaborn as sns\n",
    "import matplotlib.pyplot as plt"
   ]
  },
  {
   "cell_type": "markdown",
   "metadata": {},
   "source": [
    "## Initial Conditions\n",
    "\n",
    "In this block constants are defined. They impact the environment, rendering and objects directly."
   ]
  },
  {
   "cell_type": "code",
   "execution_count": null,
   "metadata": {},
   "outputs": [],
   "source": [
    "# global\n",
    "viscosity = 0.00000  # Air Resistance\n",
    "\n",
    "# simulation constants\n",
    "mass = 0.5  # mass [kg]\n",
    "a = 2  # acceleration [m/s^2]\n",
    "barrier_pos = 20 # [m]\n",
    "distance = 100\n",
    "\n",
    "# rendering\n",
    "width = 1920\n",
    "height = 1080\n",
    "dpi = 600\n",
    "duration = 10  # (seconds)\n",
    "framerate = 60  # (Hz)"
   ]
  },
  {
   "cell_type": "markdown",
   "metadata": {},
   "source": [
    "## Model"
   ]
  },
  {
   "cell_type": "markdown",
   "metadata": {},
   "source": [
    "### Objects of Interest\n",
    "\n",
    "Here we create all the objects that will interact in the world. To model `inertia` one might create a car and a barrier into which car will crash. On that car there might be a sphere which will start continuing it's trajectory after the crash."
   ]
  },
  {
   "cell_type": "code",
   "execution_count": null,
   "metadata": {},
   "outputs": [],
   "source": [
    "class Sphere(object):\n",
    "\n",
    "    def __init__(self, size: float, mass: float, camera: bool = True) -> None:\n",
    "        self.model = mjcf.RootElement(model=\"sphere\")\n",
    "        self.sphere = self.model.worldbody.add(\"body\", name=\"sphere\", pos=[0, 0, 0])\n",
    "        self.sphere_geom = self.sphere.add(\n",
    "            \"geom\",\n",
    "            name=\"sphere_geom\",\n",
    "            type=\"sphere\",\n",
    "            size=[size],\n",
    "            rgba=[1, 0, 0, 1],\n",
    "            mass=mass,\n",
    "            condim=1,\n",
    "        )\n",
    "\n",
    "        self.move = self.sphere.add(\"joint\", name=\"move\", type=\"slide\", axis=[1, 0, 0])\n",
    "        self.fall = self.sphere.add(\"joint\", name=\"fall\", type=\"slide\", axis=[0, 0, 1])\n",
    "\n",
    "        if camera:\n",
    "            self.camera = self.sphere.add(\n",
    "                \"camera\",\n",
    "                name=\"front\",\n",
    "                pos=[0, -2, 0],\n",
    "                euler=[90, 0, 0],\n",
    "                mode=\"track\",\n",
    "            )\n",
    "\n",
    "\n",
    "class Box(object):\n",
    "\n",
    "    def __init__(\n",
    "        self, name: str, size: list[float], rgba: list[float] = [0.1, 0.1, 0.5, 1]\n",
    "    ) -> None:\n",
    "        self.model = mjcf.RootElement(model=name)\n",
    "        self.box = self.model.worldbody.add(\"body\", name=\"box\", pos=[0, 0, 0])\n",
    "        self.box_geom = self.box.add(\n",
    "            \"geom\",\n",
    "            name=\"box_geom\",\n",
    "            type=\"box\",\n",
    "            size=size,\n",
    "            rgba=rgba,\n",
    "            condim=1,\n",
    "        )\n",
    "\n",
    "\n",
    "class Wheel(object):\n",
    "\n",
    "    def __init__(self, id: int) -> None:\n",
    "        self.model = mjcf.RootElement(model=f\"wheel_{id}\")\n",
    "        self.wheel = self.model.worldbody.add(\"body\", name=\"wheel\")\n",
    "        self.wheel_geom = self.wheel.add(\n",
    "            \"geom\",\n",
    "            name=\"wheel_geom\",\n",
    "            type=\"cylinder\",\n",
    "            size=[0.1, 0.01],\n",
    "            pos=[0, 0, 0],\n",
    "            euler=[90, 0, 0],\n",
    "        )\n",
    "        self.joint = self.wheel.add(\"joint\", name=f\"move\", type=\"hinge\", axis=[0, 1, 0])\n",
    "        self.motor = self.model.actuator.add(\"motor\", name=\"motor\", joint=self.joint)\n",
    "\n",
    "\n",
    "class Cart(object):\n",
    "\n",
    "    def __init__(self, height: float, sphere_size: float) -> None:\n",
    "        self.model = mjcf.RootElement(model=\"cart\")\n",
    "\n",
    "        self.cart = self.model.worldbody.add(\"body\", name=\"cart\", pos=[0, 0, 0])\n",
    "\n",
    "        self.cart_geom = Box(\n",
    "            name=\"cart_base\", size=[sphere_size + sphere_size / 2, sphere_size, height]\n",
    "        )\n",
    "        self.cart_site = self.cart.add(\"site\", pos=[0, 0, 0])\n",
    "        self.cart_site.attach(self.cart_geom.model)\n",
    "\n",
    "        self.cart_holder = self.cart.add(\n",
    "            \"geom\",\n",
    "            name=\"cart_support\",\n",
    "            type=\"box\",\n",
    "            size=[sphere_size / 2, sphere_size, height],\n",
    "            euler=[0, 90, 0],\n",
    "            rgba=[0.1, 0.1, 0.5, 1],\n",
    "            pos=[-(sphere_size + sphere_size / 2), 0, sphere_size * 0.5],\n",
    "        )\n",
    "\n",
    "        self.wheel_pos = [\n",
    "            [-sphere_size, -sphere_size, 0],\n",
    "            [sphere_size, sphere_size, 0],\n",
    "            [-sphere_size, sphere_size, 0],\n",
    "            [sphere_size, -sphere_size, 0],\n",
    "        ]\n",
    "\n",
    "        for i, wheel_pos in enumerate(self.wheel_pos):\n",
    "            wheel = Wheel(id=i)\n",
    "            wheel_site = self.cart.add(\"site\", pos=wheel_pos)\n",
    "            wheel_site.attach(wheel.model)\n",
    "\n",
    "        self.move = self.cart.add(\"joint\", name=\"move\", type=\"slide\", axis=[1, 0, 0])\n",
    "        self.fall = self.cart.add(\"joint\", name=\"fall\", type=\"slide\", axis=[0, 0, 1])"
   ]
  },
  {
   "cell_type": "markdown",
   "metadata": {},
   "source": [
    "### World Model\n",
    "\n",
    "Collecting everything into one general model"
   ]
  },
  {
   "cell_type": "code",
   "execution_count": null,
   "metadata": {},
   "outputs": [],
   "source": [
    "class Model(object):\n",
    "\n",
    "    def __init__(self, distance: float) -> None:\n",
    "        self.model = mjcf.RootElement(model=\"model\")\n",
    "\n",
    "        # set render info\n",
    "        self.model.visual.__getattr__(\"global\").offheight = height\n",
    "        self.model.visual.__getattr__(\"global\").offwidth = width\n",
    "\n",
    "        # set the simulation constants\n",
    "        self.model.option.viscosity = viscosity\n",
    "\n",
    "        # create the scene (ground)\n",
    "        self.scene = Scene(length=distance, width=4)\n",
    "        self.scene_site = self.model.worldbody.add(\"site\", pos=[distance / 2, 0, 0])\n",
    "        self.scene_site.attach(self.scene.model)\n",
    "\n",
    "        self.sphere_size = 0.2\n",
    "\n",
    "        # add cart\n",
    "        self.cart = Cart(height=0.05, sphere_size=self.sphere_size)\n",
    "        cart_site = self.model.worldbody.add(\n",
    "            \"site\", pos=[self.sphere_size * 2, 0, self.sphere_size / 2]\n",
    "        )\n",
    "        cart_site.attach(self.cart.model)\n",
    "\n",
    "        # add sphere\n",
    "        self.sphere = Sphere(size=self.sphere_size, mass=mass)\n",
    "        sphere_site = self.model.worldbody.add(\n",
    "            \"site\", pos=[self.sphere_size * 2, 0, self.sphere_size * 2]\n",
    "        )\n",
    "        sphere_site.attach(self.sphere.model)\n",
    "\n",
    "        # add barrier\n",
    "        barrier_height = (0.1 + self.sphere_size) / 4\n",
    "        self.barrier = Box(\n",
    "            name=\"barrier\",\n",
    "            size=[(distance / 2 - barrier_pos), self.sphere_size, barrier_height],\n",
    "            rgba=[0.07, 0.25, 0.12, 1]\n",
    "        )\n",
    "        barrier_site = self.model.worldbody.add(\n",
    "            \"site\", pos=[distance / 2 + barrier_pos, 0, barrier_height]\n",
    "        )\n",
    "        barrier_site.attach(self.barrier.model)\n",
    "\n",
    "        # add block\n",
    "        self.block = Box(name=\"block\", size=[1, 1, 1])\n",
    "        block_site = self.model.worldbody.add(\n",
    "            \"site\", pos=[distance, 0, 1], euler=[0, 0, 90]\n",
    "        )\n",
    "        block_site.attach(self.block.model)"
   ]
  },
  {
   "cell_type": "markdown",
   "metadata": {},
   "source": [
    "## Simulation"
   ]
  },
  {
   "cell_type": "markdown",
   "metadata": {},
   "source": [
    "Initializing the `physics` of the simulation"
   ]
  },
  {
   "cell_type": "code",
   "execution_count": null,
   "metadata": {},
   "outputs": [],
   "source": [
    "model = Model(distance).model\n",
    "physics = mjcf.Physics.from_mjcf_model(model)"
   ]
  },
  {
   "cell_type": "markdown",
   "metadata": {},
   "source": [
    "First of all, the environment must be verified by rendering a picture"
   ]
  },
  {
   "cell_type": "code",
   "execution_count": null,
   "metadata": {},
   "outputs": [],
   "source": [
    "mediapy.show_image(physics.render(height=320, width=640, camera_id=0))"
   ]
  },
  {
   "cell_type": "markdown",
   "metadata": {},
   "source": [
    "Previously, we added a motor for each wheel, and that's how we can access them:"
   ]
  },
  {
   "cell_type": "code",
   "execution_count": null,
   "metadata": {},
   "outputs": [],
   "source": [
    "physics.named.data.ctrl"
   ]
  },
  {
   "cell_type": "markdown",
   "metadata": {},
   "source": [
    "Get IDs of interesting objects"
   ]
  },
  {
   "cell_type": "code",
   "execution_count": null,
   "metadata": {},
   "outputs": [],
   "source": [
    "cart_base_id = physics.model.name2id(\"cart/cart_base/box_geom\", \"geom\")\n",
    "sphere_id = physics.model.name2id(\"sphere/sphere_geom\", \"geom\")\n",
    "barrier_id = physics.model.name2id(\"barrier/box_geom\", \"geom\")\n",
    "block_id = physics.model.name2id(\"block/box_geom\", \"geom\")\n",
    "cart_base_id, sphere_id, barrier_id, block_id"
   ]
  },
  {
   "cell_type": "markdown",
   "metadata": {},
   "source": [
    "### Simulation Loop"
   ]
  },
  {
   "cell_type": "code",
   "execution_count": null,
   "metadata": {},
   "outputs": [],
   "source": [
    "frames = []\n",
    "timevals = []\n",
    "velocity = []\n",
    "position = []\n",
    "\n",
    "impact_time_index = None\n",
    "ball_stop_time_index = None\n",
    "\n",
    "while physics.data.time < duration:\n",
    "    if impact_time_index is None:\n",
    "        # physics.bind(model.find_all(\"actuator\")).ctrl += a * physics.model.opt.timestep\n",
    "        physics.named.data.qvel[\"cart/move\"] = 15\n",
    "        physics.named.data.qvel[\"sphere/move\"] = 15\n",
    "    else:\n",
    "        physics.bind(model.find_all(\"actuator\")).ctrl = 0\n",
    "        physics.named.data.qvel[\"cart/move\"] = 0\n",
    "        physics.named.data.qvel[\"cart/fall\"] = 0\n",
    "\n",
    "    for i, c in enumerate(physics.data.contact):\n",
    "        # get time when the car hit the barrier\n",
    "        if (\n",
    "            cart_base_id in c.geom\n",
    "            and barrier_id in c.geom\n",
    "            and impact_time_index is None\n",
    "        ):\n",
    "            impact_time_index = len(timevals)\n",
    "        # get the time to stop the simulation\n",
    "        if sphere_id in c.geom and block_id in c.geom and ball_stop_time_index is None:\n",
    "            ball_stop_time_index = len(timevals)\n",
    "\n",
    "    timevals.append(physics.data.time)\n",
    "    velocity.append(physics.named.data.qvel[\"sphere/move\"][0].copy())\n",
    "    position.append(physics.named.data.geom_xpos[\"sphere/sphere_geom\"][0].copy())\n",
    "\n",
    "    if len(frames) < physics.data.time * framerate:\n",
    "        pixels = physics.render(width=width, height=height, camera_id=0)\n",
    "        frames.append(pixels)\n",
    "\n",
    "    physics.step()"
   ]
  },
  {
   "cell_type": "code",
   "execution_count": null,
   "metadata": {},
   "outputs": [],
   "source": [
    "mediapy.show_video(frames, fps=framerate)"
   ]
  },
  {
   "cell_type": "code",
   "execution_count": null,
   "metadata": {},
   "outputs": [],
   "source": [
    "video_name = f\"newton_law_1\" if IS_COLAB else f\"../../output/newton_law_1\"\n",
    "mediapy.write_video(video_name + \".mp4\", images=frames, fps=framerate)"
   ]
  },
  {
   "cell_type": "markdown",
   "metadata": {},
   "source": [
    "## Simulation Data Visualization"
   ]
  },
  {
   "cell_type": "markdown",
   "metadata": {},
   "source": [
    "Convert data into numpy array to have more features"
   ]
  },
  {
   "cell_type": "code",
   "execution_count": null,
   "metadata": {},
   "outputs": [],
   "source": [
    "velocity = np.array(velocity)\n",
    "position = np.array(position)"
   ]
  },
  {
   "cell_type": "code",
   "execution_count": null,
   "metadata": {},
   "outputs": [],
   "source": [
    "velocity_before = velocity[:impact_time_index]\n",
    "timevals_before = timevals[:impact_time_index]\n",
    "\n",
    "velocity_after = velocity[impact_time_index:ball_stop_time_index]\n",
    "timevals_after = timevals[impact_time_index:ball_stop_time_index]\n",
    "\n",
    "position = position[:ball_stop_time_index]\n",
    "timevals_p = timevals[:ball_stop_time_index]"
   ]
  },
  {
   "cell_type": "code",
   "execution_count": null,
   "metadata": {},
   "outputs": [],
   "source": [
    "cm = 1 / 2.54\n",
    "figsize = (8.5 * cm, 3.75 * cm)\n",
    "fig, ax = plt.subplots(ncols=2, figsize=figsize, dpi=dpi)\n",
    "fig.subplots_adjust(wspace=1 * cm)\n",
    "\n",
    "y_labels = [\"Amplitude [m/s]\", \"Range, [m]\"]\n",
    "x_labels = [\"Time, [s]\", \"Time, [s]\"]\n",
    "titles = [\"Velocity\", \"Position\"]\n",
    "y_data = [[velocity_before, velocity_after], position]\n",
    "x_data = [[timevals_before, timevals_after], timevals_p]\n",
    "\n",
    "for i in range(2):\n",
    "    _x = x_data[i][1]\n",
    "    _y = y_data[i][1]\n",
    "    if i == 0:\n",
    "        sns.lineplot(x=x_data[i][0], y=y_data[i][0], ax=ax[i], linewidth=1, color=\"blue\")\n",
    "    else: _x, _y = x_data[i], y_data[i]\n",
    "    sns.lineplot(x=_x, y=_y, ax=ax[i], linewidth=1, color=\"red\")\n",
    "    ax[i].set_title(titles[i], fontsize=8)\n",
    "    ax[i].set_ylabel(y_labels[i], fontsize=7, labelpad=2)\n",
    "    ax[i].set_xlabel(x_labels[i], fontsize=7, labelpad=2)\n",
    "    ax[i].tick_params(labelsize=6)\n",
    "    ax[i].tick_params(which=\"both\", direction=\"in\", top=True, right=True, length=2)\n",
    "\n",
    "ax[0].set_yticks([15])\n",
    "\n",
    "chart_name = f\"newton_law_1.png\" if IS_COLAB else f\"../../output/newton_law_1.png\"\n",
    "fig.savefig(chart_name, bbox_inches=\"tight\")"
   ]
  }
 ],
 "metadata": {
  "kernelspec": {
   "display_name": ".venv",
   "language": "python",
   "name": "python3"
  },
  "language_info": {
   "codemirror_mode": {
    "name": "ipython",
    "version": 3
   },
   "file_extension": ".py",
   "mimetype": "text/x-python",
   "name": "python",
   "nbconvert_exporter": "python",
   "pygments_lexer": "ipython3",
   "version": "3.10.12"
  }
 },
 "nbformat": 4,
 "nbformat_minor": 2
}
