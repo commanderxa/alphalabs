{
 "cells": [
  {
   "cell_type": "markdown",
   "metadata": {},
   "source": [
    "# Newton 2nd Law"
   ]
  },
  {
   "cell_type": "markdown",
   "metadata": {},
   "source": [
    "### **Introduction**\n",
    "Newton's Second Law of Motion is one of the most important principles in physics, explaining how the motion of an object changes when it is subjected to a force. This law provides a relationship between the force applied to an object, its mass, and its acceleration. It is often summarized by the equation:\n",
    "$F_{net} = m\\vec{a}$\n",
    "\n",
    "Where:\n",
    "* $F$ is the total force applied to the object (measured in newtons, $N$),\n",
    "* $m$ is the mass of the object (measured in kilograms, $kg$),\n",
    "* $a$ is the acceleration produced (measured in meters per second squared, $m/s²$).\n",
    "\n",
    "This law tells us that the force required to accelerate an object depends on two factors: how heavy the object is (its mass) and how much acceleration you want to produce.\n",
    "\n",
    "\n",
    "### **What is it?**\n",
    "Newton’s Second Law states that the acceleration of an object is directly proportional to the net force acting on it and inversely proportional to its mass. This means that for a given amount of force, a more massive object will accelerate less than a less massive object. Conversely, if the mass is constant, a larger force will produce a greater acceleration.\n",
    "\n",
    "In essence, this law quantifies how forces affect the motion of objects. It explains why it's easier to push an empty shopping cart than a full one, and why a car requires a larger force to accelerate than a bicycle.\n",
    "\n",
    "\n",
    "### **Example**\n",
    "One simple example of Newton’s Second Law in action is a person pushing a sled across a snow-covered field. If the person applies a certain force, the sled will accelerate based on its mass. If the sled is light, it will accelerate quickly with just a small amount of force. But if the sled is loaded with heavy cargo, the same force will cause it to accelerate more slowly because its mass has increased.\n",
    "\n",
    "Another example is when you drive a car. If you press the accelerator pedal (applying force), the car will accelerate. However, the acceleration depends on the car's mass—if you're driving a small, lightweight car, it will accelerate faster than a large, heavy truck with the same amount of force applied. The truck requires a greater force to achieve the same acceleration as the lighter car.\n",
    "\n",
    "Newton's Second Law also explains the concept of momentum, which is directly tied to the mass and velocity of an object. This law is crucial for understanding how forces influence the motion of objects in everyday life, from simple actions like walking to complex phenomena like rocket launches.\n"
   ]
  },
  {
   "cell_type": "markdown",
   "metadata": {},
   "source": [
    "# Simulation"
   ]
  },
  {
   "cell_type": "markdown",
   "metadata": {},
   "source": [
    "## Setup\n",
    "\n",
    "Installing packages (for Google Colab). If this notebook is opened in Google Colab then some packages must be installed to run the code!\\\n",
    "Then importing the scene and plot settings."
   ]
  },
  {
   "cell_type": "code",
   "execution_count": null,
   "metadata": {},
   "outputs": [],
   "source": [
    "#@title Run to install MuJoCo and `dm_control` for Google Colab\n",
    "\n",
    "IS_COLAB = 'google.colab' in str(get_ipython())\n",
    "if IS_COLAB:\n",
    "    from alphalabs.mechanics.setup import install_packages_colab\n",
    "    install_packages_colab()\n",
    "    import alphalabs.mechanics.plot\n",
    "    from alphalabs.mechanics.scene import Scene\n",
    "else:\n",
    "    import os, sys\n",
    "    module_path = os.path.abspath(os.path.join(\"..\"))\n",
    "    if module_path not in sys.path:\n",
    "        sys.path.append(module_path)\n",
    "    # import the scene\n",
    "    from scene import Scene\n",
    "    import plot"
   ]
  },
  {
   "cell_type": "markdown",
   "metadata": {},
   "source": [
    "## Import\n",
    "\n",
    "Import all required packages to preform simulations. Packages include simulation engine, plotting libraries and other ones necessary for computations."
   ]
  },
  {
   "cell_type": "code",
   "execution_count": null,
   "metadata": {},
   "outputs": [],
   "source": [
    "%env MUJOCO_GL=egl\n",
    "\n",
    "import os\n",
    "\n",
    "# simulation\n",
    "from dm_control import mjcf\n",
    "\n",
    "# for video recording\n",
    "import mediapy\n",
    "\n",
    "# computations\n",
    "import numpy as np\n",
    "\n",
    "# plot charts\n",
    "import seaborn as sns\n",
    "import matplotlib.pyplot as plt"
   ]
  },
  {
   "cell_type": "markdown",
   "metadata": {},
   "source": [
    "## Initial Conditions\n",
    "\n",
    "In this block constants are defined. They impact the environment, rendering and objects directly."
   ]
  },
  {
   "cell_type": "code",
   "execution_count": null,
   "metadata": {},
   "outputs": [],
   "source": [
    "# global\n",
    "viscosity = 0.00002  # Air Resistance\n",
    "\n",
    "# simulation constants\n",
    "box_mass = 1  # mass [kg]\n",
    "ball_mass = 1  # mass [kg]\n",
    "a = 20  # acceleration [m/s^2]\n",
    "distance = 10  # platform length [m]\n",
    "\n",
    "# rendering\n",
    "width = 1920\n",
    "height = 1080\n",
    "dpi = 600\n",
    "duration = 30  # (seconds)\n",
    "framerate = 60  # (Hz)"
   ]
  },
  {
   "cell_type": "markdown",
   "metadata": {},
   "source": [
    "## Model"
   ]
  },
  {
   "cell_type": "markdown",
   "metadata": {},
   "source": [
    "### Objects of Interest\n",
    "\n",
    "This class defines the object of our interest, a `box`. Here we write what is this object (box), what can it do (move, fall) and also add a camera that follows the object."
   ]
  },
  {
   "cell_type": "code",
   "execution_count": null,
   "metadata": {},
   "outputs": [],
   "source": [
    "class Sphere(object):\n",
    "\n",
    "    def __init__(self, size: float, mass: float, camera: bool = True) -> None:\n",
    "        self.model = mjcf.RootElement(model=\"sphere\")\n",
    "\n",
    "        self.sphere = self.model.worldbody.add(\"body\", name=\"sphere\", pos=[0, 0, 0])\n",
    "        self.sphere_geom = self.sphere.add(\n",
    "            \"geom\",\n",
    "            name=\"sphere_geom\",\n",
    "            type=\"sphere\",\n",
    "            size=[size],\n",
    "            rgba=[1, 0, 0, 1],\n",
    "            mass=mass,\n",
    "            condim=1,\n",
    "        )\n",
    "\n",
    "        # self.rotate = self.sphere.add(\n",
    "        #     \"joint\", name=\"rotate\", type=\"hinge\", axis=[0, 1, 0], damping=0.1\n",
    "        # )\n",
    "        self.move = self.sphere.add(\n",
    "            \"joint\", name=\"move\", type=\"slide\", axis=[1, 0, 0], damping=0.1\n",
    "        )\n",
    "        self.fall = self.sphere.add(\n",
    "            \"joint\", name=\"fall\", type=\"slide\", axis=[0, 0, 1], damping=0.1\n",
    "        )\n",
    "\n",
    "        self.motor = self.model.actuator.add(\"motor\", name=\"motor\", joint=self.move)\n",
    "\n",
    "        if camera:\n",
    "            self.camera = self.sphere.add(\n",
    "                \"camera\",\n",
    "                name=\"front\",\n",
    "                pos=[0, -2.5, 0.2],\n",
    "                euler=[90, 0, 0],\n",
    "                mode=\"track\",\n",
    "            )\n",
    "\n",
    "\n",
    "class Box(object):\n",
    "\n",
    "    def __init__(self, name: str, mass: float, size: float) -> None:\n",
    "        self.model = mjcf.RootElement(model=name)\n",
    "\n",
    "        self.box = self.model.worldbody.add(\"body\", name=\"box\", pos=[0, 0, 0])\n",
    "        self.box_geom = self.box.add(\n",
    "            \"geom\",\n",
    "            name=\"box_geom\",\n",
    "            type=\"box\",\n",
    "            size=[size, size, size],\n",
    "            rgba=[0.1, 0.1, 0.5, 1],\n",
    "            mass=mass,\n",
    "        )\n",
    "        self.move = self.box.add(\n",
    "            \"joint\", name=\"move\", type=\"slide\", axis=[1, 0, 0], damping=0.1\n",
    "        )\n",
    "        self.fall = self.box.add(\n",
    "            \"joint\", name=\"fall\", type=\"slide\", axis=[0, 0, 1], damping=0.1\n",
    "        )"
   ]
  },
  {
   "cell_type": "markdown",
   "metadata": {},
   "source": [
    "### World Model\n",
    "\n",
    "Collecting everything into one general model"
   ]
  },
  {
   "cell_type": "code",
   "execution_count": null,
   "metadata": {},
   "outputs": [],
   "source": [
    "class Model(object):\n",
    "\n",
    "    def __init__(self, distance: float) -> None:\n",
    "        self.model = mjcf.RootElement(model=\"model\")\n",
    "\n",
    "        # set render info\n",
    "        self.model.visual.__getattr__(\"global\").offheight = height\n",
    "        self.model.visual.__getattr__(\"global\").offwidth = width\n",
    "\n",
    "        # set the simulation constants\n",
    "        self.model.option.viscosity = viscosity\n",
    "        self.model.option.integrator = \"RK4\"\n",
    "        self.model.option.timestep = 0.001\n",
    "\n",
    "        self.sphere_size = 0.2\n",
    "        self.box_size = 0.4\n",
    "\n",
    "        # create the scene (ground)\n",
    "        self.scene = Scene(length=distance, width=4)\n",
    "        self.scene_site = self.model.worldbody.add(\n",
    "            \"site\", pos=[distance / 2 - self.sphere_size * 3, 0, 0]\n",
    "        )\n",
    "        self.scene_site.attach(self.scene.model)\n",
    "\n",
    "        # add sphere\n",
    "        self.sphere = Sphere(size=self.sphere_size, mass=ball_mass)\n",
    "        sphere_site = self.model.worldbody.add(\"site\", pos=[0, 0, self.sphere_size])\n",
    "        sphere_site.attach(self.sphere.model)\n",
    "\n",
    "        # # add box\n",
    "        # self.box = Box(name=\"box\", size=self.box_size, mass=box_mass)\n",
    "        # box_site = self.model.worldbody.add(\n",
    "        #     \"site\",\n",
    "        #     pos=[\n",
    "        #         self.sphere_size + 2 * self.box_size,\n",
    "        #         0,\n",
    "        #         self.box_size,\n",
    "        #     ],\n",
    "        # )\n",
    "        # box_site.attach(self.box.model)\n",
    "\n",
    "        # add block\n",
    "        self.block = Box(name=\"block\", size=1, mass=1000)\n",
    "        block_site = self.model.worldbody.add(\n",
    "            \"site\", pos=[distance - self.sphere_size * 3, 0, 1], euler=[0, 0, 90]\n",
    "        )\n",
    "        block_site.attach(self.block.model)"
   ]
  },
  {
   "cell_type": "markdown",
   "metadata": {},
   "source": [
    "## Simulation"
   ]
  },
  {
   "cell_type": "markdown",
   "metadata": {},
   "source": [
    "Initializing the `physics` of the simulation"
   ]
  },
  {
   "cell_type": "code",
   "execution_count": null,
   "metadata": {},
   "outputs": [],
   "source": [
    "model = Model(distance).model\n",
    "physics = mjcf.Physics.from_mjcf_model(model)"
   ]
  },
  {
   "cell_type": "markdown",
   "metadata": {},
   "source": [
    "First of all, the environment must be verified by rendering a picture"
   ]
  },
  {
   "cell_type": "code",
   "execution_count": null,
   "metadata": {},
   "outputs": [],
   "source": [
    "mediapy.show_image(physics.render(height=320, width=640, camera_id=0))"
   ]
  },
  {
   "cell_type": "markdown",
   "metadata": {},
   "source": [
    "Calculate the force of the ball"
   ]
  },
  {
   "cell_type": "code",
   "execution_count": null,
   "metadata": {},
   "outputs": [],
   "source": [
    "force = ball_mass * a"
   ]
  },
  {
   "cell_type": "markdown",
   "metadata": {},
   "source": [
    "Get IDs of interesting objects"
   ]
  },
  {
   "cell_type": "code",
   "execution_count": null,
   "metadata": {},
   "outputs": [],
   "source": [
    "sphere_id = physics.model.name2id(\"sphere/sphere_geom\", \"geom\")\n",
    "block_id = physics.model.name2id(\"block/box_geom\", \"geom\")\n",
    "sphere_id, block_id"
   ]
  },
  {
   "cell_type": "markdown",
   "metadata": {},
   "source": [
    "### Simulation Loop"
   ]
  },
  {
   "cell_type": "code",
   "execution_count": null,
   "metadata": {},
   "outputs": [],
   "source": [
    "frames = []\n",
    "timevals = []\n",
    "velocity = []\n",
    "position = []\n",
    "\n",
    "for _ in range(60):\n",
    "    frames.append(physics.render(width=width, height=height, camera_id=0))\n",
    "\n",
    "# apply the force\n",
    "physics.named.data.xfrc_applied[\"sphere/sphere\", 0] = force\n",
    "\n",
    "stop = None\n",
    "while physics.data.time < duration:\n",
    "    if stop is not None and physics.data.time - stop > 1:\n",
    "        break\n",
    "\n",
    "    for i, c in enumerate(physics.data.contact):\n",
    "        if sphere_id in c.geom and block_id in c.geom and stop is None:\n",
    "            stop = physics.data.time\n",
    "\n",
    "    timevals.append(physics.data.time)\n",
    "    velocity.append(physics.named.data.qvel[\"sphere/move\"][0].copy())\n",
    "    position.append(physics.named.data.geom_xpos[\"sphere/sphere_geom\"][0].copy())\n",
    "\n",
    "    if len(frames) - 60 < physics.data.time * framerate:\n",
    "        pixels = physics.render(width=width, height=height, camera_id=0)\n",
    "        frames.append(pixels)\n",
    "\n",
    "    physics.step()"
   ]
  },
  {
   "cell_type": "markdown",
   "metadata": {},
   "source": [
    "This is how to see the manual forces (forces that we apply) acting on the objects"
   ]
  },
  {
   "cell_type": "code",
   "execution_count": null,
   "metadata": {},
   "outputs": [],
   "source": [
    "physics.named.data.xfrc_applied"
   ]
  },
  {
   "cell_type": "code",
   "execution_count": null,
   "metadata": {},
   "outputs": [],
   "source": [
    "mediapy.show_video(frames, fps=framerate)"
   ]
  },
  {
   "cell_type": "code",
   "execution_count": null,
   "metadata": {},
   "outputs": [],
   "source": [
    "video_name = f\"newton_law_2\" if IS_COLAB else f\"../../output/newton_law_2\"\n",
    "mediapy.write_video(video_name + \".mp4\", images=frames, fps=framerate)"
   ]
  },
  {
   "cell_type": "markdown",
   "metadata": {},
   "source": [
    "## Simulation Data Visualization"
   ]
  },
  {
   "cell_type": "markdown",
   "metadata": {},
   "source": [
    "Convert data into numpy array to have more features"
   ]
  },
  {
   "cell_type": "code",
   "execution_count": null,
   "metadata": {},
   "outputs": [],
   "source": [
    "velocity = np.array(velocity)\n",
    "position = np.array(position)"
   ]
  },
  {
   "cell_type": "code",
   "execution_count": null,
   "metadata": {},
   "outputs": [],
   "source": [
    "velocity = velocity[:velocity.argmax().item()]\n",
    "timevals_v = timevals[:len(velocity)]\n",
    "\n",
    "position = position[:position.argmax().item()]\n",
    "timevals_p = timevals[:len(position)]"
   ]
  },
  {
   "cell_type": "code",
   "execution_count": null,
   "metadata": {},
   "outputs": [],
   "source": [
    "cm = 1 / 2.54\n",
    "figsize = (8.5 * cm, 3.75 * cm)\n",
    "fig, ax = plt.subplots(ncols=2, figsize=figsize, dpi=dpi)\n",
    "fig.subplots_adjust(wspace=1 * cm)\n",
    "\n",
    "y_labels = [\"Amplitude [m/s]\", \"Range, [m]\"]\n",
    "x_labels = [\"Time, [s]\", \"Time, [s]\"]\n",
    "titles = [\"Velocity\", \"Position\"]\n",
    "y_data = [velocity, position]\n",
    "x_data = [timevals_v, timevals_p]\n",
    "\n",
    "for i in range(2):\n",
    "    sns.lineplot(x=x_data[i], y=y_data[i], ax=ax[i], linewidth=1, color=\"red\")\n",
    "    ax[i].set_title(titles[i], fontsize=8)\n",
    "    ax[i].set_ylabel(y_labels[i], fontsize=7, labelpad=2)\n",
    "    ax[i].set_xlabel(x_labels[i], fontsize=7, labelpad=2)\n",
    "    ax[i].tick_params(labelsize=6)\n",
    "    ax[i].tick_params(which=\"both\", direction=\"in\", top=True, right=True, length=2)\n",
    "\n",
    "chart_name = f\"newton_law_2.png\" if IS_COLAB else f\"../../output/newton_law_2.png\"\n",
    "fig.savefig(chart_name, bbox_inches=\"tight\")"
   ]
  }
 ],
 "metadata": {
  "kernelspec": {
   "display_name": ".venv",
   "language": "python",
   "name": "python3"
  },
  "language_info": {
   "codemirror_mode": {
    "name": "ipython",
    "version": 3
   },
   "file_extension": ".py",
   "mimetype": "text/x-python",
   "name": "python",
   "nbconvert_exporter": "python",
   "pygments_lexer": "ipython3",
   "version": "3.10.12"
  }
 },
 "nbformat": 4,
 "nbformat_minor": 2
}
