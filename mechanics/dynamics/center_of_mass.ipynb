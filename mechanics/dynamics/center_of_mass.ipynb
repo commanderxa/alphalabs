{
 "cells": [
  {
   "cell_type": "markdown",
   "metadata": {},
   "source": [
    "# Center of Mass"
   ]
  },
  {
   "cell_type": "markdown",
   "metadata": {},
   "source": [
    "### **Introduction**\n",
    "\n",
    "The center of mass (COM) is a fundamental concept in physics that refers to the average position of all the mass in a system. It is the point at which the total mass of an object or system can be considered to be concentrated for the purpose of analyzing motion. In simple terms, it's the balance point of an object. The center of mass plays a critical role in understanding how objects move, rotate, and interact under various forces.\n",
    "\n",
    "### **What is it?**\n",
    "\n",
    "The center of mass is the weighted average position of all the mass in an object or system. Mathematically, it is calculated by considering the masses of individual components and their positions relative to a chosen origin.\n",
    "\n",
    "For a continuous mass distribution, this becomes an integral.\n",
    "\n",
    "The center of mass is particularly important in analyzing the motion of objects, especially when there are rotational forces or external interactions involved. It allows for simplifications in equations of motion, as the motion of the entire system can be described as though all mass is concentrated at a single point, the center of mass.\n",
    "\n",
    "### **Example**\n",
    "\n",
    "Consider a simple system, like a uniform rod with length $L$ and mass $M$. To find the center of mass, we can use the fact that for a uniform object, the center of mass is located at the midpoint of the object.\n",
    "\n",
    "For the rod:\n",
    "\n",
    "- The mass is uniformly distributed along the length of the rod.\n",
    "- Therefore, the center of mass is at the point $L/2$ from either end of the rod.\n",
    "\n",
    "In this case, the center of mass simplifies to the midpoint of the rod because of its uniform mass distribution."
   ]
  },
  {
   "cell_type": "markdown",
   "metadata": {},
   "source": [
    "# Simulation"
   ]
  },
  {
   "cell_type": "markdown",
   "metadata": {},
   "source": [
    "## Setup\n",
    "\n",
    "Installing packages (for Google Colab). If this notebook is opened in Google Colab then some packages must be installed to run the code!\\\n",
    "Then importing the scene and plot settings."
   ]
  },
  {
   "cell_type": "code",
   "execution_count": null,
   "metadata": {},
   "outputs": [],
   "source": [
    "#@title Run to install MuJoCo and `dm_control` for Google Colab\n",
    "\n",
    "IS_COLAB = 'google.colab' in str(get_ipython())\n",
    "if IS_COLAB:\n",
    "    from extraphi.mechanics.setup import install_packages_colab\n",
    "    install_packages_colab()\n",
    "    import extraphi.mechanics.plot\n",
    "    from extraphi.mechanics.scene import Scene\n",
    "else:\n",
    "    import os, sys\n",
    "    module_path = os.path.abspath(os.path.join(\"..\"))\n",
    "    if module_path not in sys.path:\n",
    "        sys.path.append(module_path)\n",
    "    # import the scene\n",
    "    from scene import Scene\n",
    "    import plot"
   ]
  },
  {
   "cell_type": "markdown",
   "metadata": {},
   "source": [
    "## Import\n",
    "\n",
    "Import all required packages to preform simulations. Packages include simulation engine, plotting libraries and other ones necessary for computations."
   ]
  },
  {
   "cell_type": "code",
   "execution_count": null,
   "metadata": {},
   "outputs": [],
   "source": [
    "%env MUJOCO_GL=egl\n",
    "\n",
    "import os\n",
    "\n",
    "# simulation\n",
    "from dm_control import mujoco, mjcf\n",
    "from dm_control.mujoco.wrapper.mjbindings import enums\n",
    "\n",
    "# for video recording\n",
    "import mediapy\n",
    "\n",
    "# computations\n",
    "import numpy as np"
   ]
  },
  {
   "cell_type": "markdown",
   "metadata": {},
   "source": [
    "## Initial Conditions\n",
    "\n",
    "In this block constants are defined. They impact the environment, rendering and objects directly."
   ]
  },
  {
   "cell_type": "code",
   "execution_count": null,
   "metadata": {},
   "outputs": [],
   "source": [
    "# global\n",
    "viscosity = 0.00002  # Air Resistance\n",
    "\n",
    "# simulation constants\n",
    "masses = [0.1, 20, 3, 0.6, 0.3, 1, 8]\n",
    "region = (np.array([-2.0, -2.0, 0.0]), np.array([2.0, 2.0, 4.0]))\n",
    "\n",
    "# rendering\n",
    "width = 1920\n",
    "height = 1080\n",
    "dpi = 600\n",
    "duration = 10  # (seconds)\n",
    "framerate = 60  # (Hz)"
   ]
  },
  {
   "cell_type": "markdown",
   "metadata": {},
   "source": [
    "## Model"
   ]
  },
  {
   "cell_type": "markdown",
   "metadata": {},
   "source": [
    "### World Model\n",
    "\n",
    "Collecting everything into one general model"
   ]
  },
  {
   "cell_type": "code",
   "execution_count": null,
   "metadata": {},
   "outputs": [],
   "source": [
    "class Model(object):\n",
    "\n",
    "    def __init__(\n",
    "        self, masses: list[float], region: tuple[np.ndarray, np.ndarray]\n",
    "    ) -> None:\n",
    "        self.model = mjcf.RootElement(model=\"center_of_mass\")\n",
    "\n",
    "        # set render info\n",
    "        self.model.visual.__getattr__(\"global\").offheight = height\n",
    "        self.model.visual.__getattr__(\"global\").offwidth = width\n",
    "\n",
    "        self.model.option.viscosity = viscosity\n",
    "\n",
    "        # create the scene (ground)\n",
    "        self.scene = Scene(\n",
    "            length=(region[1][0] - region[0][0]) * 2,\n",
    "            width=(region[1][1] - region[0][1]) * 2,reflectance=0\n",
    "        )\n",
    "        self.scene_site = self.model.worldbody.add(\"site\", pos=[0, 0, 0])\n",
    "        self.scene_site.attach(self.scene.model)\n",
    "\n",
    "        # create the group of objects with mass\n",
    "        self.scene = self.model.worldbody.add(\"body\", name=\"sphere_group\", pos=[0, 0, 0])\n",
    "        # generate the spheres\n",
    "        for mass in masses:\n",
    "            sphere_pos = np.random.uniform(region[0], region[1])\n",
    "            self.scene.add(\n",
    "                \"geom\", name=f\"{mass} kg\", mass=mass, pos=sphere_pos, size=[0.2]\n",
    "            )"
   ]
  },
  {
   "cell_type": "markdown",
   "metadata": {},
   "source": [
    "## Simulation"
   ]
  },
  {
   "cell_type": "markdown",
   "metadata": {},
   "source": [
    "Initializing the `physics` of the simulation"
   ]
  },
  {
   "cell_type": "code",
   "execution_count": null,
   "metadata": {},
   "outputs": [],
   "source": [
    "model = Model(masses, region).model\n",
    "physics = mjcf.Physics.from_mjcf_model(model)"
   ]
  },
  {
   "cell_type": "markdown",
   "metadata": {},
   "source": [
    "First of all, the environment must be verified by rendering a picture"
   ]
  },
  {
   "cell_type": "code",
   "execution_count": null,
   "metadata": {},
   "outputs": [],
   "source": [
    "scene_option = mujoco.wrapper.core.MjvOption()\n",
    "scene_option.label = enums.mjtLabel.mjLABEL_GEOM  # enable body labels\n",
    "\n",
    "mediapy.show_image(\n",
    "    physics.render(height=height, width=width, scene_option=scene_option)\n",
    ")"
   ]
  },
  {
   "cell_type": "markdown",
   "metadata": {},
   "source": [
    "Save the rendered image"
   ]
  },
  {
   "cell_type": "code",
   "execution_count": null,
   "metadata": {},
   "outputs": [],
   "source": [
    "image_name = f\"com_not_shown\" if IS_COLAB else f\"../../output/com_not_shown\"\n",
    "mediapy.write_image(image_name + \".png\", image=physics.render(height=height, width=width, scene_option=scene_option))"
   ]
  },
  {
   "cell_type": "markdown",
   "metadata": {},
   "source": [
    "Now we enable `MuJoCo` to show the center of mass (COM). However, we will find that COM is shown as white spheres. There are 3 spheres since COM is shown for each body and for the entire world, which is nice. The problem is in the size or color of COM spheres, they may be near each other, which makes it a bit uncomfortable to look at them."
   ]
  },
  {
   "cell_type": "code",
   "execution_count": null,
   "metadata": {},
   "outputs": [],
   "source": [
    "scene_option.flags[enums.mjtVisFlag.mjVIS_COM] = True\n",
    "mediapy.show_image(physics.render(height=height, width=width, scene_option=scene_option))"
   ]
  },
  {
   "cell_type": "markdown",
   "metadata": {},
   "source": [
    "We can add our own COM spheres. First of all, we must get the coordintaes of the COM."
   ]
  },
  {
   "cell_type": "code",
   "execution_count": null,
   "metadata": {},
   "outputs": [],
   "source": [
    "physics.named.data.subtree_com"
   ]
  },
  {
   "cell_type": "markdown",
   "metadata": {},
   "source": [
    "Now, let's take only the interesting coordinates."
   ]
  },
  {
   "cell_type": "code",
   "execution_count": null,
   "metadata": {},
   "outputs": [],
   "source": [
    "physics.named.data.subtree_com[\"sphere_group\"]"
   ]
  },
  {
   "cell_type": "markdown",
   "metadata": {},
   "source": [
    "Let's add a big red sphere at the location of these coordinates."
   ]
  },
  {
   "cell_type": "code",
   "execution_count": null,
   "metadata": {},
   "outputs": [],
   "source": [
    "model.worldbody.add(\n",
    "    \"geom\", name=\"center of mass\", pos=physics.named.data.subtree_com[\"sphere_group\"], size=[0.5], rgba=[1, 0, 0, 1]\n",
    ")"
   ]
  },
  {
   "cell_type": "markdown",
   "metadata": {},
   "source": [
    "Update the physics since we updated the model."
   ]
  },
  {
   "cell_type": "code",
   "execution_count": null,
   "metadata": {},
   "outputs": [],
   "source": [
    "physics = mjcf.Physics.from_mjcf_model(model)"
   ]
  },
  {
   "cell_type": "markdown",
   "metadata": {},
   "source": [
    "Render the image again, and voilà!"
   ]
  },
  {
   "cell_type": "code",
   "execution_count": null,
   "metadata": {},
   "outputs": [],
   "source": [
    "scene_option.flags[enums.mjtVisFlag.mjVIS_COM] = False\n",
    "scene_option.flags[enums.mjtLabel.mjLABEL_GEOM] = True\n",
    "mediapy.show_image(physics.render(height=height, width=width, scene_option=scene_option))"
   ]
  },
  {
   "cell_type": "markdown",
   "metadata": {},
   "source": [
    "Saving the new rendered image"
   ]
  },
  {
   "cell_type": "code",
   "execution_count": null,
   "metadata": {},
   "outputs": [],
   "source": [
    "image_name = f\"com_shown\" if IS_COLAB else f\"../../output/com_shown\"\n",
    "mediapy.write_image(image_name + \".png\", image=physics.render(height=height, width=width, scene_option=scene_option))"
   ]
  }
 ],
 "metadata": {
  "kernelspec": {
   "display_name": ".venv",
   "language": "python",
   "name": "python3"
  },
  "language_info": {
   "codemirror_mode": {
    "name": "ipython",
    "version": 3
   },
   "file_extension": ".py",
   "mimetype": "text/x-python",
   "name": "python",
   "nbconvert_exporter": "python",
   "pygments_lexer": "ipython3",
   "version": "3.10.12"
  }
 },
 "nbformat": 4,
 "nbformat_minor": 2
}
