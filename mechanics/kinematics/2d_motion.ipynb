{
 "cells": [
  {
   "cell_type": "markdown",
   "metadata": {},
   "source": [
    "# 2D Motion"
   ]
  },
  {
   "cell_type": "markdown",
   "metadata": {},
   "source": [
    "### **Introduction**\n",
    "\n",
    "We live in a quite complex world, where motion is considered a synonym of life. In fact, everything we do is related to motion.\n",
    "\n",
    "Our world is composed of 3 dimensions (3D) in which you can move (jump, run, swim, do backflips, etc.). In this lab, we will handle a big part of that complexity of the world we live in - Motion in two dimensions.\n",
    "\n",
    "### **What is it?**\n",
    "\n",
    "2D motion is a motion where 2 dimensions are used. Now, compared to 1 dimension, objects in 2 dimensions experience the force from more sides. Such motion is not significantly different from 3D motion, since it allows us to model interaction of objects and the earth much more simply. The main desire to use 2 dimensions is to see how objects will experience gravity.\n",
    "\n",
    "### **Example**\n",
    "\n",
    "The cliché example is a projectile motion - a parabalistic trajectories of thrown objects that under gravitation will eventually fall down. Such a process might be visualized differently. For instance, you may throw a rock or a ball, you may speed up and jump up the hillock on your bike or you might think of the Earth moving around the sun. All of that is an example of projectile motion. \n",
    "\n",
    "In the past, our ancestors had been using dangerous weapons called catapults to destroy their enemies' fortresses and to conquer cities, however, they did not know any kinematics formulae, they used a method of trial and error to understand the relationship between the angle and the distance cannonball flies. Today, thanks to many curious people as Galileo Galilei and Isaac Newton we know how to calculate complex trajectories that allow us to control the multistage rockets."
   ]
  },
  {
   "cell_type": "markdown",
   "metadata": {},
   "source": [
    "### **Formulas**\n",
    "\n",
    "2D Motion might be calculated using the following formulas:\n",
    "\n",
    "Fall Velocity: $\\vec{v}_y=\\vec{v}_{y0}+\\vec{a}t=\\vec{v}_{y0}+\\vec{g}t$\\\n",
    "Move Velocity: $\\vec{v}_x=\\vec{v_{x0}}+\\vec{a}t$\\\n",
    "Position: $x=x_0+\\vec{v}t+\\frac{1}{2}\\vec{a}t^2$\n"
   ]
  },
  {
   "cell_type": "markdown",
   "metadata": {},
   "source": [
    "# Simulation"
   ]
  },
  {
   "cell_type": "markdown",
   "metadata": {},
   "source": [
    "## Setup\n",
    "\n",
    "Installing packages (for Google Colab). If this notebook is opened in Google Colab then some packages must be installed to run the code!\\\n",
    "Then importing the scene and plot settings."
   ]
  },
  {
   "cell_type": "code",
   "execution_count": null,
   "metadata": {},
   "outputs": [],
   "source": [
    "#@title Run to install MuJoCo and `dm_control` for Google Colab\n",
    "\n",
    "IS_COLAB = 'google.colab' in str(get_ipython())\n",
    "if IS_COLAB:\n",
    "    # download the repository\n",
    "    !git clone https://github.com/commanderxa/alphalabs.git\n",
    "    from alphalabs.mechanics.setup import install_packages_colab\n",
    "    install_packages_colab()\n",
    "    import alphalabs.mechanics.plot\n",
    "    from alphalabs.mechanics.scene import Scene\n",
    "else:\n",
    "    import os, sys\n",
    "    module_path = os.path.abspath(os.path.join(\"..\"))\n",
    "    if module_path not in sys.path:\n",
    "        sys.path.append(module_path)\n",
    "    # import the scene\n",
    "    from scene import Scene\n",
    "    import plot"
   ]
  },
  {
   "cell_type": "markdown",
   "metadata": {},
   "source": [
    "## Import\n",
    "\n",
    "Import all required packages to preform simulations. Packages include simulation engine, plotting libraries and other ones necessary for computations."
   ]
  },
  {
   "cell_type": "code",
   "execution_count": null,
   "metadata": {},
   "outputs": [],
   "source": [
    "%env MUJOCO_GL=egl\n",
    "\n",
    "# simulation\n",
    "from dm_control import mjcf, mujoco\n",
    "from dm_control.mujoco import engine\n",
    "\n",
    "# for video recording\n",
    "import mediapy\n",
    "\n",
    "# computations\n",
    "import numpy as np\n",
    "\n",
    "# plot charts\n",
    "import seaborn as sns\n",
    "import matplotlib.pyplot as plt\n",
    "import matplotlib.ticker as ticker"
   ]
  },
  {
   "cell_type": "markdown",
   "metadata": {},
   "source": [
    "## Initial Conditions\n",
    "\n",
    "In this block constants are defined. They impact the environment, rendering and objects directly."
   ]
  },
  {
   "cell_type": "code",
   "execution_count": null,
   "metadata": {},
   "outputs": [],
   "source": [
    "# global\n",
    "viscosity = 0.00000  # Air Resistance\n",
    "density = 0.0\n",
    "\n",
    "# simulation constants\n",
    "# speed [m/s]\n",
    "v = 20\n",
    "# angle in degrees\n",
    "angle = 30\n",
    "\n",
    "platform_length = 1000  # [m]\n",
    "\n",
    "# rendering\n",
    "width = 1920\n",
    "height = 1080\n",
    "dpi = 600\n",
    "duration = 10  # (seconds)\n",
    "framerate = 60  # (Hz)"
   ]
  },
  {
   "cell_type": "markdown",
   "metadata": {},
   "source": [
    "Convert degrees to radians"
   ]
  },
  {
   "cell_type": "code",
   "execution_count": null,
   "metadata": {},
   "outputs": [],
   "source": [
    "angle_rad = angle * np.pi / 180"
   ]
  },
  {
   "cell_type": "markdown",
   "metadata": {},
   "source": [
    "## Model"
   ]
  },
  {
   "cell_type": "markdown",
   "metadata": {},
   "source": [
    "### Objects of Interest\n",
    "\n",
    "Here we create all the objects that will interact in the world. To model `2D motion` one might create a box that is shot in the sky under a specific angle."
   ]
  },
  {
   "cell_type": "code",
   "execution_count": null,
   "metadata": {},
   "outputs": [],
   "source": [
    "class Box(object):\n",
    "\n",
    "    def __init__(self, size: float) -> None:\n",
    "        self.model = mjcf.RootElement(model=\"box\")\n",
    "\n",
    "        self.wrapper = self.model.worldbody.add(\"body\", name=\"wrapper\", pos=[0, 0, 0])\n",
    "\n",
    "        self.box = self.wrapper.add(\"body\", name=\"box\", pos=[0, 0, 0])\n",
    "        self.box_geom = self.box.add(\n",
    "            \"geom\",\n",
    "            name=\"box_geom\",\n",
    "            type=\"box\",\n",
    "            size=[size, size, size],\n",
    "            mass=1,\n",
    "            rgba=[1, 0, 0, 1],\n",
    "            condim=6,\n",
    "        )\n",
    "\n",
    "        self.hidden_box_geom = self.wrapper.add(\n",
    "            \"geom\",\n",
    "            name=\"hidden_box_geom\",\n",
    "            type=\"box\",\n",
    "            size=[size, size, size],\n",
    "            mass=1,\n",
    "            rgba=[0, 0, 0, 0],\n",
    "            contype=0,\n",
    "            conaffinity=0,\n",
    "        )\n",
    "\n",
    "        self.camera = self.wrapper.add(\n",
    "            \"camera\",\n",
    "            name=\"front\",\n",
    "            pos=[0, -4, 0],\n",
    "            euler=[90, 0, 0],\n",
    "            mode=\"trackcom\",\n",
    "            fovy=45,\n",
    "        )\n",
    "\n",
    "        self.move = self.box.add(\"joint\", name=\"move\", type=\"slide\", axis=[1, 0, 0])\n",
    "        self.fall = self.box.add(\"joint\", name=\"fall\", type=\"slide\", axis=[0, 0, 1])\n",
    "\n",
    "        self.box.add(\"light\", directional=False, pos=[0, 0, 10], dir=[0, 0, -1])"
   ]
  },
  {
   "cell_type": "markdown",
   "metadata": {},
   "source": [
    "### World Model\n",
    "\n",
    "Collecting everything into one general model."
   ]
  },
  {
   "cell_type": "code",
   "execution_count": null,
   "metadata": {},
   "outputs": [],
   "source": [
    "class Model(object):\n",
    "\n",
    "    def __init__(self, platform_length: float) -> None:\n",
    "        self.model = mjcf.RootElement(model=\"model\")\n",
    "\n",
    "        box_size = 0.3\n",
    "\n",
    "        # set render info\n",
    "        self.model.visual.__getattr__(\"global\").offheight = height\n",
    "        self.model.visual.__getattr__(\"global\").offwidth = width\n",
    "        self.model.visual.map.znear = 0.001\n",
    "\n",
    "        # set the simulation constants\n",
    "        self.model.option.viscosity = viscosity\n",
    "        self.model.option.density = density\n",
    "\n",
    "        # create the environment (ground)\n",
    "        self.scene = Scene(length=platform_length, width=10, condim=6)\n",
    "        self.scene_site = self.model.worldbody.add(\"site\", pos=[0, 0, -box_size * 1.5])\n",
    "        self.scene_site.attach(self.scene.model)\n",
    "\n",
    "        # add the box\n",
    "        self.box = Box(box_size)\n",
    "        box_site = self.model.worldbody.add(\"site\", pos=[0, 0, 0])\n",
    "        box_site.attach(self.box.model)"
   ]
  },
  {
   "cell_type": "markdown",
   "metadata": {},
   "source": [
    "## Simulation"
   ]
  },
  {
   "cell_type": "markdown",
   "metadata": {},
   "source": [
    "Initializing the `physics` of the simulation and verifying the environment by rendering a picture of the simulation world."
   ]
  },
  {
   "cell_type": "code",
   "execution_count": null,
   "metadata": {},
   "outputs": [],
   "source": [
    "model = Model(platform_length).model\n",
    "physics = mjcf.Physics.from_mjcf_model(model)"
   ]
  },
  {
   "cell_type": "markdown",
   "metadata": {},
   "source": [
    "Creating a new movable camera."
   ]
  },
  {
   "cell_type": "code",
   "execution_count": null,
   "metadata": {},
   "outputs": [],
   "source": [
    "camera = engine.MovableCamera(physics, height, width)\n",
    "lookat = (\n",
    "    abs(physics.named.data.geom_xpos[\"box/box_geom\"].copy())\n",
    "    - abs(physics.named.data.geom_xpos[\"box/hidden_box_geom\"].copy())\n",
    ") / 2\n",
    "camera.set_pose(lookat=lookat, distance=8, azimuth=90, elevation=0)"
   ]
  },
  {
   "cell_type": "markdown",
   "metadata": {},
   "source": [
    "First of all, the environment must be verified by rendering a picture."
   ]
  },
  {
   "cell_type": "code",
   "execution_count": null,
   "metadata": {},
   "outputs": [],
   "source": [
    "mediapy.show_image(camera.render().copy())"
   ]
  },
  {
   "cell_type": "markdown",
   "metadata": {},
   "source": [
    "Get IDs of the objects"
   ]
  },
  {
   "cell_type": "code",
   "execution_count": null,
   "metadata": {},
   "outputs": [],
   "source": [
    "box_id = physics.model.name2id(\"box/box_geom\", \"geom\")\n",
    "ground_id = physics.model.name2id(\"scene/platform\", \"geom\")\n",
    "box_track_id = physics.model.name2id(\"box/wrapper\", \"body\")\n",
    "box_id, ground_id, box_track_id"
   ]
  },
  {
   "cell_type": "markdown",
   "metadata": {},
   "source": [
    "### Scene Modification\n",
    "\n",
    "These functions allow to render some objects (trajectories, in this case) that will be visible, but will not interact."
   ]
  },
  {
   "cell_type": "code",
   "execution_count": null,
   "metadata": {},
   "outputs": [],
   "source": [
    "def add_visual_capsule(scene, point1, point2, radius, rgba):\n",
    "    \"\"\"Adds one capsule to an mjvScene.\"\"\"\n",
    "    if scene.ngeom >= scene.maxgeom:\n",
    "        return\n",
    "    scene.ngeom += 1  # increment ngeom\n",
    "    # initialise a new capsule, add it to the scene using mjv_connector\n",
    "    mujoco.mjv_initGeom(\n",
    "        scene.geoms[scene.ngeom - 1],\n",
    "        mujoco.mjtGeom.mjGEOM_CAPSULE,\n",
    "        np.ones(3),\n",
    "        np.zeros(3),\n",
    "        np.zeros(9),\n",
    "        rgba.astype(np.float32),\n",
    "    )\n",
    "    mujoco.mjv_connector(\n",
    "        scene.geoms[scene.ngeom - 1],\n",
    "        mujoco.mjtGeom.mjGEOM_CAPSULE,\n",
    "        radius,\n",
    "        point1,\n",
    "        point2,\n",
    "    )\n",
    "\n",
    "\n",
    "def modify_scene(physics, scn, position):\n",
    "    \"\"\"Draw position trace\"\"\"\n",
    "    if len(position) > 1:\n",
    "        for i in range(len(position) - 1):\n",
    "            rgba = np.array([1, 0, 0, 1])\n",
    "            radius = 0.1\n",
    "            point1 = position[i]\n",
    "            point2 = position[i + 1]\n",
    "            add_visual_capsule(scn, point1, point2, radius, rgba)\n",
    "\n",
    "    return position"
   ]
  },
  {
   "cell_type": "markdown",
   "metadata": {},
   "source": [
    "### Simulation Loop"
   ]
  },
  {
   "cell_type": "code",
   "execution_count": null,
   "metadata": {},
   "outputs": [],
   "source": [
    "physics.reset()\n",
    "\n",
    "frames = []\n",
    "timevals = []\n",
    "velocity = []\n",
    "position = []\n",
    "\n",
    "impact_time_index = None\n",
    "accelerated = False\n",
    "\n",
    "while physics.time() < duration:\n",
    "\n",
    "    if not accelerated and physics.time() > 1.0:\n",
    "        # set inital velocity\n",
    "        physics.named.data.qvel[\"box/move\"] = v * np.cos(angle_rad)\n",
    "        physics.named.data.qvel[\"box/fall\"] = v * np.sin(angle_rad)\n",
    "        accelerated = True\n",
    "\n",
    "    if impact_time_index is not None and physics.time() - impact_time_index > 3.0:\n",
    "        break\n",
    "\n",
    "    for i, c in enumerate(physics.data.contact):\n",
    "        if (\n",
    "            impact_time_index is None\n",
    "            and accelerated\n",
    "            and box_id in c.geom\n",
    "            and ground_id in c.geom\n",
    "            and physics.named.data.qvel[\"box/fall\"] < 0.000001\n",
    "        ):\n",
    "            impact_time_index = physics.time()\n",
    "            physics.named.data.qvel[\"box/move\"] = 0\n",
    "\n",
    "    if accelerated and impact_time_index is None:\n",
    "        timevals.append(physics.data.time)\n",
    "        velocity.append(physics.named.data.qvel[:].copy())\n",
    "        position.append(physics.named.data.geom_xpos[\"box/box_geom\"].copy())\n",
    "\n",
    "    # modify camera view\n",
    "    distance = camera.get_pose().distance + 2 * v * physics.model.opt.timestep\n",
    "    lookat = (\n",
    "        abs(physics.named.data.geom_xpos[\"box/box_geom\"].copy())\n",
    "        - abs(physics.named.data.geom_xpos[\"box/hidden_box_geom\"].copy())\n",
    "    ) / 2\n",
    "\n",
    "    if len(frames) < physics.data.time * framerate:\n",
    "        scene_callback = None\n",
    "        if accelerated:\n",
    "            scene_callback = lambda _physics, _scn: modify_scene(\n",
    "                _physics, _scn, position\n",
    "            )\n",
    "        camera = engine.MovableCamera(\n",
    "            physics,\n",
    "            height,\n",
    "            width,\n",
    "            scene_callback=scene_callback,\n",
    "            max_geom=10000,\n",
    "        )\n",
    "        camera.set_pose(lookat, distance, azimuth=90, elevation=0)\n",
    "        pixels = camera.render().copy()\n",
    "        frames.append(pixels)\n",
    "\n",
    "    physics.step()"
   ]
  },
  {
   "cell_type": "code",
   "execution_count": null,
   "metadata": {},
   "outputs": [],
   "source": [
    "# Simulate and display video.\n",
    "mediapy.show_video(frames, fps=framerate)"
   ]
  },
  {
   "cell_type": "markdown",
   "metadata": {},
   "source": [
    "Save the rendered video"
   ]
  },
  {
   "cell_type": "code",
   "execution_count": null,
   "metadata": {},
   "outputs": [],
   "source": [
    "video_name = f\"2d_motion\" if IS_COLAB else f\"../../output/2d_motion\"\n",
    "mediapy.write_video(video_name + \".mp4\", images=frames, fps=framerate)"
   ]
  },
  {
   "cell_type": "markdown",
   "metadata": {},
   "source": [
    "## Simulation Data Visualization"
   ]
  },
  {
   "cell_type": "markdown",
   "metadata": {},
   "source": [
    "Convert data into numpy array to have more features"
   ]
  },
  {
   "cell_type": "code",
   "execution_count": null,
   "metadata": {},
   "outputs": [],
   "source": [
    "velocity = np.array(velocity)\n",
    "position = np.array(position)"
   ]
  },
  {
   "cell_type": "code",
   "execution_count": null,
   "metadata": {},
   "outputs": [],
   "source": [
    "cm = 1 / 2.54\n",
    "figsize = (8.5 * cm, 3.75 * cm)\n",
    "fig, ax = plt.subplots(ncols=2, figsize=figsize, dpi=dpi, sharex=False)\n",
    "fig.subplots_adjust(wspace=1 * cm)\n",
    "\n",
    "y_labels = [\"Amplitude [m/s]\", \"Hight, [m]\"]\n",
    "x_labels = [\"Time, [s]\", \"Range, [m]\"]\n",
    "titles = [\"Velocity\", \"Position\"]\n",
    "y_data = [velocity[:, 1], position[:, 2]]\n",
    "x_data = [timevals, position[:, 0]]\n",
    "\n",
    "for i in range(2):\n",
    "    sns.lineplot(x=x_data[i], y=y_data[i], ax=ax[i], linewidth=1, color=\"red\")\n",
    "    ax[i].set_title(titles[i], fontsize=8)\n",
    "    ax[i].set_ylabel(y_labels[i], fontsize=7, labelpad=2)\n",
    "    ax[i].set_xlabel(x_labels[i], fontsize=7, labelpad=2)\n",
    "    ax[i].tick_params(labelsize=6)\n",
    "    ax[i].tick_params(which=\"both\", direction=\"in\", top=True, right=True, length=2)\n",
    "\n",
    "max_height_idx = np.where(position == max(position[:, 2]))[0][0]\n",
    "max_height = position[max_height_idx]\n",
    "\n",
    "ax[1].set_ylim(top=np.ceil(max_height)[2])\n",
    "ax[0].axvline(\n",
    "    x=[timevals[max_height_idx]],\n",
    "    linewidth=0.5,\n",
    "    label=f\"Peak Time: {(timevals[max_height_idx]):.2f} s\",\n",
    "    color=\"green\",\n",
    ")\n",
    "ax[1].axvline(\n",
    "    x=[max_height[0]],\n",
    "    linewidth=0.5,\n",
    "    label=f\"Max Height: {max_height[2]:.2f} m\",\n",
    "    color=\"green\",\n",
    ")\n",
    "\n",
    "ax[0].legend(fontsize=5, handlelength=1).get_frame().set_linewidth(0.5)\n",
    "ax[1].legend(fontsize=5, handlelength=1).get_frame().set_linewidth(0.5)\n",
    "\n",
    "chart_name = f\"2d_motion\" if IS_COLAB else f\"../../output/2d_motion\"\n",
    "fig.savefig(chart_name + \".png\", bbox_inches=\"tight\")"
   ]
  }
 ],
 "metadata": {
  "kernelspec": {
   "display_name": ".venv",
   "language": "python",
   "name": "python3"
  },
  "language_info": {
   "codemirror_mode": {
    "name": "ipython",
    "version": 3
   },
   "file_extension": ".py",
   "mimetype": "text/x-python",
   "name": "python",
   "nbconvert_exporter": "python",
   "pygments_lexer": "ipython3",
   "version": "3.10.12"
  }
 },
 "nbformat": 4,
 "nbformat_minor": 4
}
