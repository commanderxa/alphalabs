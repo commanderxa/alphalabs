{
 "cells": [
  {
   "cell_type": "markdown",
   "metadata": {},
   "source": [
    "# 1D Motion"
   ]
  },
  {
   "cell_type": "markdown",
   "metadata": {},
   "source": [
    "### **Introduction**\n",
    "\n",
    "We live in a quite complex world, where motion is considered a synonym of life. In fact, everything we do is related to motion. \n",
    "\n",
    "Our world is composed of 3 dimensions (3D) in which you can move (jump, run, swim, do backflips, etc.). In this lab, we will explore only a part of that complexity of the world we live in - Motion in a single dimension. \n",
    "\n",
    "\n",
    "### **What is it?**\n",
    "What is this type of Motion and why should we study it? Well first, 1D motion is a motion of an object in a straight line. The reason to study this physics topic is to understand the topic of motion. As was mentioned previously, our world comprises 3 dimensions. Why do we start from only one? The thing is, even 1D motion is able to tell us useful information and help to derive certain physical and mathematical principles. \n",
    "\n",
    "\n",
    "### **Example**\n",
    "Electric supercar manufacturer Rimac claimed the acceleration record from a still position hitting 400 km/h and dropping down to 0 in 29.93 seconds. Later on, the engineers of Koenigsegg (probably) took that record personally and made a car that can do 0-400-0 km/h in just 27.83 seconds.\n",
    "\n",
    "The interesting moment is how the cars were moving when they were beating one record after another. They were mimicking the trajectory of a line.\n",
    "\n",
    "Although as was said many times previously, our world is 3 dimensional. While we think the car moves in a line, it is also subjected to the gravitation that acts on objects in the vertical dimension (perpendicular to a car). So we can't really do a 1D motion on our planet without utilizing special instruments. In simulations nevertheless, we can enable the dimensions we want."
   ]
  },
  {
   "cell_type": "markdown",
   "metadata": {},
   "source": [
    "### **What types of motion exist?**\n",
    "\n",
    "There are:\n",
    "\n",
    "- Uniform Motion\n",
    "- Non-Uniform Motion\n",
    "\n",
    "Here, we will study the first type of motion, which consists of:\n",
    "\n",
    "- Uniform Motion\n",
    "- Uniformly Accelerated Motion\n",
    "- Uniformly Decelerated Motion\n",
    "\n",
    "The figure below shows those types of motion:\n",
    "\n",
    "<img src=\"../../media/Linear Motion.png\" />"
   ]
  },
  {
   "cell_type": "markdown",
   "metadata": {},
   "source": [
    "### **Formulas**\n",
    "\n",
    "Motion might be calculated using the following formulas:\n",
    "\n",
    "Velocity: $\\vec{v}=\\vec{v_0}+\\vec{a}t$\\\n",
    "Position: $x=x_0+\\vec{v}t+\\frac{1}{2}\\vec{a}t^2$\n",
    "\n",
    "Velocity and position have an interesting realtion. We may derive velocity by taking the derivative from position and derive position by integrating the velocity (which you could learn at Calculus):\n",
    "\n",
    "* $\\vec{v} =\\frac{dx}{dt}$\n",
    "* $x = \\int{\\vec{v}}dt$ "
   ]
  },
  {
   "cell_type": "markdown",
   "metadata": {},
   "source": [
    "# Simulation"
   ]
  },
  {
   "cell_type": "markdown",
   "metadata": {},
   "source": [
    "## Setup\n",
    "\n",
    "Installing packages (for Google Colab). If this notebook is opened in Google Colab then some packages must be installed to run the code!\\\n",
    "Then importing the scene and plot settings."
   ]
  },
  {
   "cell_type": "code",
   "execution_count": null,
   "metadata": {},
   "outputs": [],
   "source": [
    "#@title Run to install MuJoCo and `dm_control` for Google Colab\n",
    "!git clone https://github.com/commanderxa/alphalabs.git\n",
    "\n",
    "IS_COLAB = 'google.colab' in str(get_ipython())\n",
    "if IS_COLAB:\n",
    "    # download the repository\n",
    "    !git clone https://github.com/commanderxa/alphalabs.git\n",
    "    from alphalabs.mechanics.setup import install_packages_colab\n",
    "    install_packages_colab()\n",
    "    import alphalabs.mechanics.plot\n",
    "    from alphalabs.mechanics.scene import Scene\n",
    "else:\n",
    "    import os, sys\n",
    "    module_path = os.path.abspath(os.path.join(\"..\"))\n",
    "    if module_path not in sys.path:\n",
    "        sys.path.append(module_path)\n",
    "    # import the scene\n",
    "    from scene import Scene\n",
    "    import plot"
   ]
  },
  {
   "cell_type": "markdown",
   "metadata": {},
   "source": [
    "## Import\n",
    "\n",
    "Import all required packages to preform simulations. Packages include simulation engine, plotting libraries and other ones necessary for computations."
   ]
  },
  {
   "cell_type": "code",
   "execution_count": null,
   "metadata": {},
   "outputs": [],
   "source": [
    "%env MUJOCO_GL=egl\n",
    "\n",
    "# simulation\n",
    "from dm_control import mjcf\n",
    "\n",
    "# for video recording\n",
    "import mediapy\n",
    "\n",
    "# computations\n",
    "import numpy as np\n",
    "\n",
    "# plot charts\n",
    "import seaborn as sns\n",
    "import matplotlib.pyplot as plt\n",
    "import matplotlib.ticker as ticker"
   ]
  },
  {
   "cell_type": "markdown",
   "metadata": {},
   "source": [
    "## Initial Conditions\n",
    "\n",
    "In this block constants are defined. They impact the environment, rendering and objects directly.\n",
    "\n",
    "**Note**, don't set very high values for velocity as the simulation might crash. If you will experience such a situation, try reducing the velocity!"
   ]
  },
  {
   "cell_type": "code",
   "execution_count": null,
   "metadata": {},
   "outputs": [],
   "source": [
    "# global\n",
    "viscosity = 0  # Air Resistance\n",
    "\n",
    "# simulation constants\n",
    "# inital velocity [m/s]\n",
    "v = 10\n",
    "# acceleration [m/s^2]\n",
    "a = -1\n",
    "\n",
    "size = 0.3\n",
    "platform_length = 500\n",
    "\n",
    "# rendering\n",
    "width = 1920\n",
    "height = 1080\n",
    "dpi = 600\n",
    "duration = 10  # (seconds)\n",
    "framerate = 60  # (Hz)"
   ]
  },
  {
   "cell_type": "markdown",
   "metadata": {},
   "source": [
    "## Model"
   ]
  },
  {
   "cell_type": "markdown",
   "metadata": {},
   "source": [
    "### Objects of Interest\n",
    "\n",
    "Here we create all the objects that will interact in the world. To model `1D motion` one might create a moving box."
   ]
  },
  {
   "cell_type": "code",
   "execution_count": null,
   "metadata": {},
   "outputs": [],
   "source": [
    "class Box(object):\n",
    "\n",
    "    def __init__(self, size: float) -> None:\n",
    "        self.model = mjcf.RootElement(model=\"box\")\n",
    "\n",
    "        self.box = self.model.worldbody.add(\"body\", name=\"box\", pos=[0, 0, 0])\n",
    "        self.box_geom = self.box.add(\n",
    "            \"geom\",\n",
    "            name=\"box_geom\",\n",
    "            type=\"box\",\n",
    "            size=[size * 2, size, size],\n",
    "            mass=1,\n",
    "            rgba=[1, 0, 0, 1],\n",
    "            condim=1,\n",
    "        )\n",
    "\n",
    "        self.camera = self.box.add(\n",
    "            \"camera\",\n",
    "            name=\"front\",\n",
    "            pos=[0, -4, 1],\n",
    "            euler=[75, 0, 0],\n",
    "            mode=\"track\",\n",
    "            fovy=45,\n",
    "        )\n",
    "\n",
    "        self.move = self.box.add(\"joint\", name=\"move\", type=\"slide\", axis=[1, 0, 0])\n",
    "        self.fall = self.box.add(\"joint\", name=\"fall\", type=\"slide\", axis=[0, 0, 1])"
   ]
  },
  {
   "cell_type": "markdown",
   "metadata": {},
   "source": [
    "### World Model\n",
    "\n",
    "Collecting everything into one general model: Scene and Object. Here, we also may set certain attributes for the MuJoCo engine, for example `viscosity` and `integrator`. "
   ]
  },
  {
   "cell_type": "code",
   "execution_count": null,
   "metadata": {},
   "outputs": [],
   "source": [
    "class Model(object):\n",
    "\n",
    "    def __init__(self, size: float, platform_length: float) -> None:\n",
    "        self.model = mjcf.RootElement(model=\"model\")\n",
    "\n",
    "        # set render info\n",
    "        self.model.visual.__getattr__(\"global\").offheight = height\n",
    "        self.model.visual.__getattr__(\"global\").offwidth = width\n",
    "        self.model.visual.map.znear = 0.001\n",
    "\n",
    "        # set the simulation constants\n",
    "        self.model.option.viscosity = viscosity\n",
    "        self.model.option.integrator = \"RK4\"\n",
    "        self.model.option.timestep = 0.001\n",
    "\n",
    "        # create the scene (ground)\n",
    "        self.scene = Scene(length=platform_length, width=2)\n",
    "        self.scene_site = self.model.worldbody.add(\n",
    "            \"site\", pos=[platform_length / 2 - size * 2, 0, 0]\n",
    "        )\n",
    "        self.scene_site.attach(self.scene.model)\n",
    "\n",
    "        # add the object\n",
    "        self.box = Box(size)\n",
    "        box_site = self.model.worldbody.add(\"site\", pos=[0, 0, size / 2 + 0.1])\n",
    "        box_site.attach(self.box.model)"
   ]
  },
  {
   "cell_type": "markdown",
   "metadata": {},
   "source": [
    "## Simulation"
   ]
  },
  {
   "cell_type": "markdown",
   "metadata": {},
   "source": [
    "Initializing the `physics` of the simulation"
   ]
  },
  {
   "cell_type": "code",
   "execution_count": null,
   "metadata": {},
   "outputs": [],
   "source": [
    "model = Model(size, platform_length).model\n",
    "physics = mjcf.Physics.from_mjcf_model(model)"
   ]
  },
  {
   "cell_type": "markdown",
   "metadata": {},
   "source": [
    "First of all, the environment must be verified by rendering a picture"
   ]
  },
  {
   "cell_type": "code",
   "execution_count": null,
   "metadata": {},
   "outputs": [],
   "source": [
    "mediapy.show_image(physics.render(height=320, width=640, camera_id=0))"
   ]
  },
  {
   "cell_type": "markdown",
   "metadata": {},
   "source": [
    "### Simulation Loop"
   ]
  },
  {
   "cell_type": "code",
   "execution_count": null,
   "metadata": {},
   "outputs": [],
   "source": [
    "frames = []\n",
    "timevals = []\n",
    "velocity = []\n",
    "position = []\n",
    "\n",
    "physics.named.data.qvel[\"box/move\"] = v\n",
    "\n",
    "while physics.data.time < duration:\n",
    "    \n",
    "    # applying the acceleration specifier in `a`\n",
    "    physics.named.data.qvel[\"box/move\"] += a * physics.model.opt.timestep\n",
    "\n",
    "    # we can obtain certain properties of the objects and thw world,\n",
    "    # here we writing the time of the step, velocity and position of the `box`\n",
    "    timevals.append(physics.data.time)\n",
    "    velocity.append(physics.named.data.qvel[\"box/move\"][0].copy())\n",
    "    position.append(physics.named.data.geom_xpos[\"box/box_geom\"][0].copy())\n",
    "\n",
    "    if len(frames) < physics.data.time * framerate:\n",
    "        pixels = physics.render(width=width, height=height, camera_id=0)\n",
    "        frames.append(pixels)\n",
    "    \n",
    "    physics.step()"
   ]
  },
  {
   "cell_type": "code",
   "execution_count": null,
   "metadata": {},
   "outputs": [],
   "source": [
    "# Simulate and display video.\n",
    "mediapy.show_video(frames, fps=framerate)"
   ]
  },
  {
   "cell_type": "markdown",
   "metadata": {},
   "source": [
    "Save the rendered video"
   ]
  },
  {
   "cell_type": "code",
   "execution_count": null,
   "metadata": {},
   "outputs": [],
   "source": [
    "m_type = \"acceleration\" if a > 0 else \"deceleration\"\n",
    "if a == 0:\n",
    "    m_type = \"constant\"\n",
    "\n",
    "video_name = f\"1d_motion_{m_type}.mp4\" if IS_COLAB else f\"../../output/1d_motion.mp4\"\n",
    "mediapy.write_video(video_name, images=frames, fps=framerate)"
   ]
  },
  {
   "cell_type": "markdown",
   "metadata": {},
   "source": [
    "## Data Analysis\n",
    "\n",
    "Collected velocities and position now can be plotted to investigate what happened to the object."
   ]
  },
  {
   "cell_type": "markdown",
   "metadata": {},
   "source": [
    "Convert data into numpy array to have more features"
   ]
  },
  {
   "cell_type": "code",
   "execution_count": null,
   "metadata": {},
   "outputs": [],
   "source": [
    "velocity = np.array(velocity)\n",
    "position = np.array(position)"
   ]
  },
  {
   "cell_type": "code",
   "execution_count": null,
   "metadata": {},
   "outputs": [],
   "source": [
    "cm = 1 / 2.54\n",
    "figsize = (8.5 * cm, 3.75 * cm)\n",
    "fig, ax = plt.subplots(ncols=2, figsize=figsize, dpi=dpi)\n",
    "fig.subplots_adjust(wspace=1 * cm)\n",
    "\n",
    "y_labels = [\"Amplitude [m/s]\", \"Range, [m]\"]\n",
    "x_labels = [\"Time, [s]\", \"Time, [s]\"]\n",
    "titles = [\"Velocity\", \"Position\"]\n",
    "data = [velocity, position]\n",
    "\n",
    "for i in range(2):\n",
    "    sns.lineplot(x=timevals, y=data[i], ax=ax[i], linewidth=1, color=\"red\")\n",
    "    ax[i].set_title(titles[i], fontsize=8)\n",
    "    ax[i].set_ylabel(y_labels[i], fontsize=7, labelpad=2)\n",
    "    ax[i].set_xlabel(x_labels[i], fontsize=7, labelpad=2)\n",
    "    ax[i].tick_params(labelsize=6)\n",
    "    ax[i].tick_params(which=\"both\", direction=\"in\", top=True, right=True, length=2)\n",
    "    ax[i].xaxis.set_major_locator(ticker.MaxNLocator(nbins=6))\n",
    "    ax[i].yaxis.set_major_locator(ticker.MaxNLocator(nbins=6))\n",
    "\n",
    "chart_name = f\"1d_motion_{m_type}.png\" if IS_COLAB else f\"../../output/1d_motion.png\"\n",
    "fig.savefig(chart_name, bbox_inches=\"tight\")"
   ]
  }
 ],
 "metadata": {
  "kernelspec": {
   "display_name": "Python 3",
   "language": "python",
   "name": "python3"
  },
  "language_info": {
   "codemirror_mode": {
    "name": "ipython",
    "version": 3
   },
   "file_extension": ".py",
   "mimetype": "text/x-python",
   "name": "python",
   "nbconvert_exporter": "python",
   "pygments_lexer": "ipython3",
   "version": "3.10.12"
  }
 },
 "nbformat": 4,
 "nbformat_minor": 4
}
