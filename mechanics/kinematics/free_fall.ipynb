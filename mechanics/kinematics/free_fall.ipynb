{
  "cells": [
    {
      "cell_type": "markdown",
      "metadata": {
        "id": "sbbP9wqWPyXz"
      },
      "source": [
        "# Free Fall"
      ]
    },
    {
      "cell_type": "markdown",
      "metadata": {
        "id": "fwkrZgbRPyX0"
      },
      "source": [
        "### **Introduction**\n",
        "\n",
        "Here, on Earth objects are constantly fall down. Nowadays, students learn about the constant of gravitation (G) and the gravitational acceleration (g) already at school, however, humanity calculated this constants and the equations describing such type motion as falling comperatively recently.\n",
        "\n",
        "### **What is it?**\n",
        "\n",
        "Free fall is a state at which an object is subjected to the effect of gravitation, that leads to the fall of such object. You might be deceived by the fact that only the heavier objects pull the lighter ones, however, while say Earth pulls the moon closer, the Moon also pulls the Earth closer. So why does the Moon orbit the Earth then and not vice versa? The force of the pull matters, the force projected onto the Moon is drastically larger than that of force projected onto the Earth.\n",
        "\n",
        "### **Example**\n",
        "\n",
        "What will fall faster, a hummer or a feather? If you have not been asked it before, your most probable answer will be the hummer. But the answer is: \"it depends\". But what is the dependency? If you apply the formula for the falling object: $y=\\frac{1}{2}gt^2$, you will say that the hummer and the feather are going to fall down at the same time, because the equation does not take into account the mass of the object. So why then the hummer falls faster? The answer is the air. Air has density which slows down objects and the smaller the mass and bigger the sufrace of the object the slower it falls. In fact, on Earth, obejcts may reach their maximum velocity called the **terminal velocity**. The feather falls slower than the hummer because it reaches its terminal velocity almost instantly, that means it falls with a constant velocity. In vacuum though, these two objects will fall down as the equation describes. Watch the [video](https://www.youtube.com/watch?v=Oo8TaPVsn9Y) below, where astranauts make this experiment on the Moon (in vacuum, with no air)."
      ]
    },
    {
      "cell_type": "markdown",
      "metadata": {
        "id": "54nRpKqFPyX2"
      },
      "source": [
        "### Video of falling object on the Moon (in vacuum)"
      ]
    },
    {
      "cell_type": "code",
      "execution_count": null,
      "metadata": {
        "id": "DJetgFH_PyX3"
      },
      "outputs": [],
      "source": [
        "from IPython.display import YouTubeVideo\n",
        "\n",
        "YouTubeVideo(\"Oo8TaPVsn9Y\", width=512)"
      ]
    },
    {
      "cell_type": "markdown",
      "metadata": {
        "id": "qawGWMRQPyX4"
      },
      "source": [
        "In this lab you will experiment with the falling objects tweaking the environment (vacuum or not) and the masses of the objects."
      ]
    },
    {
      "cell_type": "markdown",
      "metadata": {
        "id": "OmILE1MUPyX4"
      },
      "source": [
        "# Simulation"
      ]
    },
    {
      "cell_type": "markdown",
      "metadata": {
        "id": "d5AL-Gg0PyX5"
      },
      "source": [
        "## Setup\n",
        "\n",
        "Installing packages (for Google Colab). If this notebook is opened in Google Colab then some packages must be installed to run the code!\\\n",
        "Then importing the scene and plot settings."
      ]
    },
    {
      "cell_type": "code",
      "execution_count": null,
      "metadata": {
        "cellView": "form",
        "id": "u7SMhiBPPyX5"
      },
      "outputs": [],
      "source": [
        "#@title Run to install MuJoCo and `dm_control` for Google Colab\n",
        "\n",
        "IS_COLAB = 'google.colab' in str(get_ipython())\n",
        "if IS_COLAB:\n",
        "    # download the repository\n",
        "    !git clone https://github.com/commanderxa/alphalabs.git\n",
        "    from alphalabs.mechanics.setup import install_packages_colab\n",
        "    install_packages_colab()\n",
        "    import alphalabs.mechanics.plot\n",
        "    from alphalabs.mechanics.scene import Scene\n",
        "else:\n",
        "    import os, sys\n",
        "    module_path = os.path.abspath(os.path.join(\"..\"))\n",
        "    if module_path not in sys.path:\n",
        "        sys.path.append(module_path)\n",
        "    # import the scene\n",
        "    from scene import Scene\n",
        "    import plot"
      ]
    },
    {
      "cell_type": "markdown",
      "metadata": {
        "id": "IAecyifiPyX6"
      },
      "source": [
        "## Import\n",
        "\n",
        "Import all required packages to preform simulations. Packages include simulation engine, plotting libraries and other ones necessary for computations."
      ]
    },
    {
      "cell_type": "code",
      "execution_count": null,
      "metadata": {
        "id": "1LmYtpe-PyX8"
      },
      "outputs": [],
      "source": [
        "%env MUJOCO_GL=egl\n",
        "\n",
        "# simulation\n",
        "from dm_control import mjcf\n",
        "\n",
        "# for video recording\n",
        "import mediapy\n",
        "\n",
        "# computations\n",
        "import numpy as np\n",
        "\n",
        "# plot charts\n",
        "import seaborn as sns\n",
        "import matplotlib.pyplot as plt\n",
        "import matplotlib.ticker as ticker"
      ]
    },
    {
      "cell_type": "markdown",
      "metadata": {
        "id": "COJlCmZcPyX9"
      },
      "source": [
        "## Initial Conditions\n",
        "\n",
        "In this block constants are defined. They impact the environment, rendering and objects directly."
      ]
    },
    {
      "cell_type": "code",
      "execution_count": null,
      "metadata": {
        "id": "A8FYQgZgPyX9"
      },
      "outputs": [],
      "source": [
        "# global\n",
        "viscosity = 0.00002  # Air Resistance\n",
        "density = 1.2\n",
        "\n",
        "# simulation constants\n",
        "blue_mass = 0.1  # mass [kg]\n",
        "red_mass = 100\n",
        "distance = 20  # [m]\n",
        "is_vacuum = False\n",
        "\n",
        "# rendering\n",
        "width = 1920\n",
        "height = 1080\n",
        "dpi = 600\n",
        "duration = 30  # (seconds)\n",
        "framerate = 60  # (Hz)"
      ]
    },
    {
      "cell_type": "markdown",
      "metadata": {
        "id": "fI3L9Lv3PyX-"
      },
      "source": [
        "## Model"
      ]
    },
    {
      "cell_type": "markdown",
      "metadata": {
        "id": "FKmTjnYiPyX-"
      },
      "source": [
        "### Objects of Interest\n",
        "\n",
        "This class defines the object of our interest, a `box`. Here we write what is this object (box), what can it do (move, fall) and also add a camera that follows the object."
      ]
    },
    {
      "cell_type": "code",
      "execution_count": null,
      "metadata": {
        "id": "igYsVrF1PyX-"
      },
      "outputs": [],
      "source": [
        "class Sphere(object):\n",
        "\n",
        "    def __init__(self, name: str, size: float, mass: float, rgba: list[float]) -> None:\n",
        "        self.model = mjcf.RootElement(model=name)\n",
        "\n",
        "        self.sphere = self.model.worldbody.add(\"body\", name=\"sphere\", pos=[0, 0, 0])\n",
        "        self.sphere_geom = self.sphere.add(\n",
        "            \"geom\",\n",
        "            name=\"sphere_geom\",\n",
        "            type=\"sphere\",\n",
        "            size=[size],\n",
        "            rgba=rgba,\n",
        "            mass=mass,\n",
        "        )\n",
        "\n",
        "        self.fall = self.sphere.add(\"joint\", name=\"fall\", type=\"slide\", axis=[0, 0, 1])"
      ]
    },
    {
      "cell_type": "markdown",
      "metadata": {
        "id": "-ZW79aBePyX_"
      },
      "source": [
        "### World Model\n",
        "\n",
        "Collecting everything into one general model"
      ]
    },
    {
      "cell_type": "code",
      "execution_count": null,
      "metadata": {
        "id": "YdPsznsOPyX_"
      },
      "outputs": [],
      "source": [
        "class Model(object):\n",
        "\n",
        "    def __init__(self, blue_mass: float, red_mass: float, distance: float) -> None:\n",
        "        self.model = mjcf.RootElement(model=\"model\")\n",
        "\n",
        "        sphere_radius = 0.5\n",
        "\n",
        "        # set render info\n",
        "        self.model.visual.__getattr__(\"global\").offheight = height\n",
        "        self.model.visual.__getattr__(\"global\").offwidth = width\n",
        "\n",
        "        # set the simulation constants\n",
        "        if not is_vacuum:\n",
        "            self.model.option.viscosity = viscosity\n",
        "            self.model.option.density = density\n",
        "\n",
        "        self.model.option.integrator = \"RK4\"\n",
        "        self.model.option.timestep = 0.001\n",
        "\n",
        "        # create the scene (ground)\n",
        "        self.scene = Scene(length=10, width=8)\n",
        "        self.scene_site = self.model.worldbody.add(\"site\", pos=[0, 0, -sphere_radius])\n",
        "        self.scene_site.attach(self.scene.model)\n",
        "\n",
        "        self.spheres = self.model.worldbody.add(\"body\", name=\"spheres\", pos=[0, 0, distance])\n",
        "        self.camera = self.spheres.add(\n",
        "            \"camera\",\n",
        "            name=\"front\",\n",
        "            pos=[0, -10, 0],\n",
        "            euler=[90, 0, 0],\n",
        "            mode=\"trackcom\",\n",
        "        )\n",
        "\n",
        "        # add sphere\n",
        "        self.sphere = Sphere(\n",
        "            name=\"blue_sphere\", size=sphere_radius, mass=blue_mass, rgba=[0.2, 0.3, 0.9, 1]\n",
        "        )\n",
        "        sphere_site = self.spheres.add(\"site\", pos=[-1, 0, 0])\n",
        "        sphere_site.attach(self.sphere.model)\n",
        "\n",
        "        # add sphere\n",
        "        self.sphere2 = Sphere(\n",
        "            name=\"red_sphere\", size=sphere_radius, mass=red_mass, rgba=[0.9, 0.2, 0.3, 1]\n",
        "        )\n",
        "        sphere_site2 = self.spheres.add(\"site\", pos=[1, 0, 0])\n",
        "        sphere_site2.attach(self.sphere2.model)"
      ]
    },
    {
      "cell_type": "markdown",
      "metadata": {
        "id": "U8eOqKkIPyYA"
      },
      "source": [
        "## Simulation"
      ]
    },
    {
      "cell_type": "markdown",
      "metadata": {
        "id": "QjUxtgAIPyYA"
      },
      "source": [
        "Initializing the `physics` of the simulation"
      ]
    },
    {
      "cell_type": "code",
      "execution_count": null,
      "metadata": {
        "id": "qOTdELdmPyYA"
      },
      "outputs": [],
      "source": [
        "model = Model(blue_mass, red_mass, distance).model\n",
        "physics = mjcf.Physics.from_mjcf_model(model)"
      ]
    },
    {
      "cell_type": "markdown",
      "metadata": {
        "id": "DsENEHAtPyYA"
      },
      "source": [
        "First of all, the environment must be verified by rendering a picture"
      ]
    },
    {
      "cell_type": "code",
      "execution_count": null,
      "metadata": {
        "id": "pr_nYBa8PyYA"
      },
      "outputs": [],
      "source": [
        "mediapy.show_image(physics.render(height=320, width=640, camera_id=0))"
      ]
    },
    {
      "cell_type": "markdown",
      "metadata": {
        "id": "bB0HCJ-kPyYB"
      },
      "source": [
        "Get IDs of interesting objects"
      ]
    },
    {
      "cell_type": "code",
      "execution_count": null,
      "metadata": {
        "id": "Ou-SphsEPyYB"
      },
      "outputs": [],
      "source": [
        "ground_id = physics.model.name2id(\"scene/platform\", \"geom\")\n",
        "blue_id = physics.model.name2id(\"blue_sphere/sphere_geom\", \"geom\")\n",
        "red_id = physics.model.name2id(\"red_sphere/sphere_geom\", \"geom\")\n",
        "ground_id, blue_id, red_id"
      ]
    },
    {
      "cell_type": "markdown",
      "metadata": {
        "id": "zqG9-P80PyYB"
      },
      "source": [
        "### Simulation Loop"
      ]
    },
    {
      "cell_type": "code",
      "execution_count": null,
      "metadata": {
        "id": "sN2x5WOKPyYB"
      },
      "outputs": [],
      "source": [
        "frames = []\n",
        "timevals = []\n",
        "\n",
        "blue_velocity = []\n",
        "blue_position = []\n",
        "\n",
        "red_velocity = []\n",
        "red_position = []\n",
        "\n",
        "stop = None\n",
        "while physics.time() < duration:\n",
        "    if stop is not None and physics.data.time - stop > 1:\n",
        "        break\n",
        "\n",
        "    blue_stop = None\n",
        "    red_stop = None\n",
        "    for i, c in enumerate(physics.data.contact):\n",
        "        if red_id in c.geom and ground_id in c.geom and stop is None:\n",
        "            red_stop = physics.data.time\n",
        "        if blue_id in c.geom and ground_id in c.geom and stop is None:\n",
        "            blue_stop = physics.data.time\n",
        "    if blue_stop is not None and red_stop is not None:\n",
        "        stop = physics.time()\n",
        "\n",
        "    timevals.append(physics.time())\n",
        "\n",
        "    blue_velocity.append(physics.named.data.qvel[\"blue_sphere/fall\"][0].copy())\n",
        "    blue_position.append(\n",
        "        physics.named.data.geom_xpos[\"blue_sphere/sphere_geom\"][-1].copy()\n",
        "    )\n",
        "\n",
        "    red_velocity.append(physics.named.data.qvel[\"red_sphere/fall\"][0].copy())\n",
        "    red_position.append(\n",
        "        physics.named.data.geom_xpos[\"red_sphere/sphere_geom\"][-1].copy()\n",
        "    )\n",
        "\n",
        "    if len(frames) < physics.time() * framerate:\n",
        "        pixels = physics.render(width=width, height=height, camera_id=0)\n",
        "        frames.append(pixels)\n",
        "\n",
        "    physics.step()"
      ]
    },
    {
      "cell_type": "code",
      "execution_count": null,
      "metadata": {
        "id": "fj1mHU5IPyYC"
      },
      "outputs": [],
      "source": [
        "len(frames)"
      ]
    },
    {
      "cell_type": "code",
      "execution_count": null,
      "metadata": {
        "id": "UTDKbppIPyYC"
      },
      "outputs": [],
      "source": [
        "mediapy.show_video(frames, fps=framerate)"
      ]
    },
    {
      "cell_type": "code",
      "execution_count": null,
      "metadata": {
        "id": "CtUqlTbUPyYC"
      },
      "outputs": [],
      "source": [
        "video_name = f\"free_fall\" if IS_COLAB else f\"../../output/free_fall\"\n",
        "mediapy.write_video(video_name + \".mp4\", images=frames, fps=framerate)"
      ]
    },
    {
      "cell_type": "markdown",
      "metadata": {
        "id": "ZD-kT95aPyYC"
      },
      "source": [
        "## Simulation Data Visualization"
      ]
    },
    {
      "cell_type": "markdown",
      "metadata": {
        "id": "BLNCQe0EPyYD"
      },
      "source": [
        "Convert data into numpy array to have more features"
      ]
    },
    {
      "cell_type": "code",
      "execution_count": null,
      "metadata": {
        "id": "PDzaKRC8PyYD"
      },
      "outputs": [],
      "source": [
        "blue_velocity = np.array(blue_velocity)\n",
        "red_velocity = np.array(red_velocity)\n",
        "\n",
        "blue_position = np.array(blue_position)\n",
        "red_position = np.array(red_position)"
      ]
    },
    {
      "cell_type": "code",
      "execution_count": null,
      "metadata": {
        "id": "dfxWgv6kPyYD"
      },
      "outputs": [],
      "source": [
        "cm = 1 / 2.54\n",
        "figsize = (8.5 * cm, 3.75 * cm)\n",
        "fig, ax = plt.subplots(ncols=2, figsize=figsize, dpi=dpi)\n",
        "fig.subplots_adjust(wspace=1 * cm)\n",
        "\n",
        "y_labels = [\"Amplitude [m/s]\", \"Height, [m]\"]\n",
        "x_labels = [\"Time, [s]\", \"Time, [s]\"]\n",
        "titles = [\"Velocity\", \"Position\"]\n",
        "data = [[blue_velocity, red_velocity], [blue_position, red_position]]\n",
        "\n",
        "for i in range(2):\n",
        "    sns.lineplot(x=timevals, y=data[i][0], ax=ax[i], linewidth=1, label=\"Blue Sphere\", color=\"blue\")\n",
        "    sns.lineplot(x=timevals, y=data[i][1], ax=ax[i], linewidth=1, label=\"Red Sphere\", color=\"red\")\n",
        "    ax[i].set_title(titles[i], fontsize=8)\n",
        "    ax[i].set_ylabel(y_labels[i], fontsize=7, labelpad=2)\n",
        "    ax[i].set_xlabel(x_labels[i], fontsize=7, labelpad=2)\n",
        "    ax[i].tick_params(labelsize=6)\n",
        "    ax[i].tick_params(which=\"both\", direction=\"in\", top=True, right=True, length=2)\n",
        "    ax[i].legend(fontsize=5, handlelength=1).get_frame().set_linewidth(0.5)\n",
        "\n",
        "chart_name = f\"free_fall\" if IS_COLAB else f\"../../output/free_fall\"\n",
        "fig.savefig(chart_name + \".png\", bbox_inches=\"tight\")"
      ]
    }
  ],
  "metadata": {
    "kernelspec": {
      "display_name": "Python 3",
      "name": "python3"
    },
    "language_info": {
      "codemirror_mode": {
        "name": "ipython",
        "version": 3
      },
      "file_extension": ".py",
      "mimetype": "text/x-python",
      "name": "python",
      "nbconvert_exporter": "python",
      "pygments_lexer": "ipython3",
      "version": "3.10.12"
    },
    "colab": {
      "provenance": [],
      "gpuType": "T4"
    },
    "accelerator": "GPU"
  },
  "nbformat": 4,
  "nbformat_minor": 0
}